{
  "nbformat": 4,
  "nbformat_minor": 0,
  "metadata": {
    "colab": {
      "provenance": [],
      "gpuType": "T4"
    },
    "kernelspec": {
      "name": "python3",
      "display_name": "Python 3"
    },
    "language_info": {
      "name": "python"
    },
    "accelerator": "GPU",
    "widgets": {
      "application/vnd.jupyter.widget-state+json": {
        "62d589d92568466aa8e80fbb079ceada": {
          "model_module": "@jupyter-widgets/controls",
          "model_name": "HBoxModel",
          "model_module_version": "1.5.0",
          "state": {
            "_dom_classes": [],
            "_model_module": "@jupyter-widgets/controls",
            "_model_module_version": "1.5.0",
            "_model_name": "HBoxModel",
            "_view_count": null,
            "_view_module": "@jupyter-widgets/controls",
            "_view_module_version": "1.5.0",
            "_view_name": "HBoxView",
            "box_style": "",
            "children": [
              "IPY_MODEL_9553a6b2429348cea804a05e6ec0fd7c",
              "IPY_MODEL_2d80562171844e72bc99dd66a51f01d9",
              "IPY_MODEL_4e4581b9bd974bfdac9e37f81d6686cd"
            ],
            "layout": "IPY_MODEL_bf4bc190214c4bd3bae6bd9e9223e872"
          }
        },
        "9553a6b2429348cea804a05e6ec0fd7c": {
          "model_module": "@jupyter-widgets/controls",
          "model_name": "HTMLModel",
          "model_module_version": "1.5.0",
          "state": {
            "_dom_classes": [],
            "_model_module": "@jupyter-widgets/controls",
            "_model_module_version": "1.5.0",
            "_model_name": "HTMLModel",
            "_view_count": null,
            "_view_module": "@jupyter-widgets/controls",
            "_view_module_version": "1.5.0",
            "_view_name": "HTMLView",
            "description": "",
            "description_tooltip": null,
            "layout": "IPY_MODEL_6ea461a0e33c46e1b5eb78c97d3f69ab",
            "placeholder": "​",
            "style": "IPY_MODEL_675482fe564d477db8ce7fcd3715fcac",
            "value": "Extracting Images: 100%"
          }
        },
        "2d80562171844e72bc99dd66a51f01d9": {
          "model_module": "@jupyter-widgets/controls",
          "model_name": "FloatProgressModel",
          "model_module_version": "1.5.0",
          "state": {
            "_dom_classes": [],
            "_model_module": "@jupyter-widgets/controls",
            "_model_module_version": "1.5.0",
            "_model_name": "FloatProgressModel",
            "_view_count": null,
            "_view_module": "@jupyter-widgets/controls",
            "_view_module_version": "1.5.0",
            "_view_name": "ProgressView",
            "bar_style": "success",
            "description": "",
            "description_tooltip": null,
            "layout": "IPY_MODEL_8d3efa512ff84733a2deb15173c872f2",
            "max": 401059,
            "min": 0,
            "orientation": "horizontal",
            "style": "IPY_MODEL_621da0c9092e4a17a30b56f66107ea97",
            "value": 401059
          }
        },
        "4e4581b9bd974bfdac9e37f81d6686cd": {
          "model_module": "@jupyter-widgets/controls",
          "model_name": "HTMLModel",
          "model_module_version": "1.5.0",
          "state": {
            "_dom_classes": [],
            "_model_module": "@jupyter-widgets/controls",
            "_model_module_version": "1.5.0",
            "_model_name": "HTMLModel",
            "_view_count": null,
            "_view_module": "@jupyter-widgets/controls",
            "_view_module_version": "1.5.0",
            "_view_name": "HTMLView",
            "description": "",
            "description_tooltip": null,
            "layout": "IPY_MODEL_5e0561bf0cdc48bd8825a8afb8ec3f37",
            "placeholder": "​",
            "style": "IPY_MODEL_3f484b8afb294c80bdc6dd95c8b1dec6",
            "value": " 401059/401059 [05:34&lt;00:00, 1312.64it/s]"
          }
        },
        "bf4bc190214c4bd3bae6bd9e9223e872": {
          "model_module": "@jupyter-widgets/base",
          "model_name": "LayoutModel",
          "model_module_version": "1.2.0",
          "state": {
            "_model_module": "@jupyter-widgets/base",
            "_model_module_version": "1.2.0",
            "_model_name": "LayoutModel",
            "_view_count": null,
            "_view_module": "@jupyter-widgets/base",
            "_view_module_version": "1.2.0",
            "_view_name": "LayoutView",
            "align_content": null,
            "align_items": null,
            "align_self": null,
            "border": null,
            "bottom": null,
            "display": null,
            "flex": null,
            "flex_flow": null,
            "grid_area": null,
            "grid_auto_columns": null,
            "grid_auto_flow": null,
            "grid_auto_rows": null,
            "grid_column": null,
            "grid_gap": null,
            "grid_row": null,
            "grid_template_areas": null,
            "grid_template_columns": null,
            "grid_template_rows": null,
            "height": null,
            "justify_content": null,
            "justify_items": null,
            "left": null,
            "margin": null,
            "max_height": null,
            "max_width": null,
            "min_height": null,
            "min_width": null,
            "object_fit": null,
            "object_position": null,
            "order": null,
            "overflow": null,
            "overflow_x": null,
            "overflow_y": null,
            "padding": null,
            "right": null,
            "top": null,
            "visibility": null,
            "width": null
          }
        },
        "6ea461a0e33c46e1b5eb78c97d3f69ab": {
          "model_module": "@jupyter-widgets/base",
          "model_name": "LayoutModel",
          "model_module_version": "1.2.0",
          "state": {
            "_model_module": "@jupyter-widgets/base",
            "_model_module_version": "1.2.0",
            "_model_name": "LayoutModel",
            "_view_count": null,
            "_view_module": "@jupyter-widgets/base",
            "_view_module_version": "1.2.0",
            "_view_name": "LayoutView",
            "align_content": null,
            "align_items": null,
            "align_self": null,
            "border": null,
            "bottom": null,
            "display": null,
            "flex": null,
            "flex_flow": null,
            "grid_area": null,
            "grid_auto_columns": null,
            "grid_auto_flow": null,
            "grid_auto_rows": null,
            "grid_column": null,
            "grid_gap": null,
            "grid_row": null,
            "grid_template_areas": null,
            "grid_template_columns": null,
            "grid_template_rows": null,
            "height": null,
            "justify_content": null,
            "justify_items": null,
            "left": null,
            "margin": null,
            "max_height": null,
            "max_width": null,
            "min_height": null,
            "min_width": null,
            "object_fit": null,
            "object_position": null,
            "order": null,
            "overflow": null,
            "overflow_x": null,
            "overflow_y": null,
            "padding": null,
            "right": null,
            "top": null,
            "visibility": null,
            "width": null
          }
        },
        "675482fe564d477db8ce7fcd3715fcac": {
          "model_module": "@jupyter-widgets/controls",
          "model_name": "DescriptionStyleModel",
          "model_module_version": "1.5.0",
          "state": {
            "_model_module": "@jupyter-widgets/controls",
            "_model_module_version": "1.5.0",
            "_model_name": "DescriptionStyleModel",
            "_view_count": null,
            "_view_module": "@jupyter-widgets/base",
            "_view_module_version": "1.2.0",
            "_view_name": "StyleView",
            "description_width": ""
          }
        },
        "8d3efa512ff84733a2deb15173c872f2": {
          "model_module": "@jupyter-widgets/base",
          "model_name": "LayoutModel",
          "model_module_version": "1.2.0",
          "state": {
            "_model_module": "@jupyter-widgets/base",
            "_model_module_version": "1.2.0",
            "_model_name": "LayoutModel",
            "_view_count": null,
            "_view_module": "@jupyter-widgets/base",
            "_view_module_version": "1.2.0",
            "_view_name": "LayoutView",
            "align_content": null,
            "align_items": null,
            "align_self": null,
            "border": null,
            "bottom": null,
            "display": null,
            "flex": null,
            "flex_flow": null,
            "grid_area": null,
            "grid_auto_columns": null,
            "grid_auto_flow": null,
            "grid_auto_rows": null,
            "grid_column": null,
            "grid_gap": null,
            "grid_row": null,
            "grid_template_areas": null,
            "grid_template_columns": null,
            "grid_template_rows": null,
            "height": null,
            "justify_content": null,
            "justify_items": null,
            "left": null,
            "margin": null,
            "max_height": null,
            "max_width": null,
            "min_height": null,
            "min_width": null,
            "object_fit": null,
            "object_position": null,
            "order": null,
            "overflow": null,
            "overflow_x": null,
            "overflow_y": null,
            "padding": null,
            "right": null,
            "top": null,
            "visibility": null,
            "width": null
          }
        },
        "621da0c9092e4a17a30b56f66107ea97": {
          "model_module": "@jupyter-widgets/controls",
          "model_name": "ProgressStyleModel",
          "model_module_version": "1.5.0",
          "state": {
            "_model_module": "@jupyter-widgets/controls",
            "_model_module_version": "1.5.0",
            "_model_name": "ProgressStyleModel",
            "_view_count": null,
            "_view_module": "@jupyter-widgets/base",
            "_view_module_version": "1.2.0",
            "_view_name": "StyleView",
            "bar_color": null,
            "description_width": ""
          }
        },
        "5e0561bf0cdc48bd8825a8afb8ec3f37": {
          "model_module": "@jupyter-widgets/base",
          "model_name": "LayoutModel",
          "model_module_version": "1.2.0",
          "state": {
            "_model_module": "@jupyter-widgets/base",
            "_model_module_version": "1.2.0",
            "_model_name": "LayoutModel",
            "_view_count": null,
            "_view_module": "@jupyter-widgets/base",
            "_view_module_version": "1.2.0",
            "_view_name": "LayoutView",
            "align_content": null,
            "align_items": null,
            "align_self": null,
            "border": null,
            "bottom": null,
            "display": null,
            "flex": null,
            "flex_flow": null,
            "grid_area": null,
            "grid_auto_columns": null,
            "grid_auto_flow": null,
            "grid_auto_rows": null,
            "grid_column": null,
            "grid_gap": null,
            "grid_row": null,
            "grid_template_areas": null,
            "grid_template_columns": null,
            "grid_template_rows": null,
            "height": null,
            "justify_content": null,
            "justify_items": null,
            "left": null,
            "margin": null,
            "max_height": null,
            "max_width": null,
            "min_height": null,
            "min_width": null,
            "object_fit": null,
            "object_position": null,
            "order": null,
            "overflow": null,
            "overflow_x": null,
            "overflow_y": null,
            "padding": null,
            "right": null,
            "top": null,
            "visibility": null,
            "width": null
          }
        },
        "3f484b8afb294c80bdc6dd95c8b1dec6": {
          "model_module": "@jupyter-widgets/controls",
          "model_name": "DescriptionStyleModel",
          "model_module_version": "1.5.0",
          "state": {
            "_model_module": "@jupyter-widgets/controls",
            "_model_module_version": "1.5.0",
            "_model_name": "DescriptionStyleModel",
            "_view_count": null,
            "_view_module": "@jupyter-widgets/base",
            "_view_module_version": "1.2.0",
            "_view_name": "StyleView",
            "description_width": ""
          }
        }
      }
    }
  },
  "cells": [
    {
      "cell_type": "code",
      "execution_count": null,
      "metadata": {
        "colab": {
          "base_uri": "https://localhost:8080/"
        },
        "id": "O8mCn5Bs_LaH",
        "outputId": "9618ce52-c000-4acf-e9d9-d41390477c5c"
      },
      "outputs": [
        {
          "output_type": "stream",
          "name": "stdout",
          "text": [
            "--2025-08-11 08:09:48--  https://github.com/dasoto/skincancer/raw/refs/heads/master/models/mymodel-2.h5\n",
            "Resolving github.com (github.com)... 20.205.243.166\n",
            "Connecting to github.com (github.com)|20.205.243.166|:443... connected.\n",
            "HTTP request sent, awaiting response... 302 Found\n",
            "Location: https://raw.githubusercontent.com/dasoto/skincancer/refs/heads/master/models/mymodel-2.h5 [following]\n",
            "--2025-08-11 08:09:49--  https://raw.githubusercontent.com/dasoto/skincancer/refs/heads/master/models/mymodel-2.h5\n",
            "Resolving raw.githubusercontent.com (raw.githubusercontent.com)... 185.199.110.133, 185.199.109.133, 185.199.111.133, ...\n",
            "Connecting to raw.githubusercontent.com (raw.githubusercontent.com)|185.199.110.133|:443... connected.\n",
            "HTTP request sent, awaiting response... 200 OK\n",
            "Length: 10025768 (9.6M) [application/octet-stream]\n",
            "Saving to: ‘mymodel-2.h5’\n",
            "\n",
            "mymodel-2.h5        100%[===================>]   9.56M  --.-KB/s    in 0.06s   \n",
            "\n",
            "2025-08-11 08:09:51 (153 MB/s) - ‘mymodel-2.h5’ saved [10025768/10025768]\n",
            "\n"
          ]
        }
      ],
      "source": [
        "!wget https://github.com/dasoto/skincancer/raw/refs/heads/master/models/mymodel-2.h5"
      ]
    },
    {
      "cell_type": "code",
      "execution_count": null,
      "metadata": {
        "id": "xiPXGSbUxsX6"
      },
      "outputs": [],
      "source": [
        "import pandas as pd\n",
        "import numpy as np\n",
        "import matplotlib.pyplot as plt\n",
        "import seaborn as sns\n",
        "import os\n",
        "import io\n",
        "import torch\n",
        "import torch.nn as nn\n",
        "from PIL import Image\n",
        "from sklearn.model_selection import train_test_split\n",
        "from sklearn.preprocessing import StandardScaler, OneHotEncoder\n",
        "from sklearn.compose import ColumnTransformer\n",
        "from sklearn.pipeline import Pipeline\n",
        "# from tensorflow.keras.losses import SparseCategoricalCrossentropy\n",
        "import torchvision.transforms as transforms\n",
        "from torch.utils.data import Dataset, DataLoader, WeightedRandomSampler\n",
        "import cv2\n",
        "import albumentations\n",
        "from tqdm import tqdm"
      ]
    },
    {
      "cell_type": "code",
      "source": [
        "import gdown\n",
        "\n",
        "gdown.download_folder('https://drive.google.com/drive/folders/1UKUZZ6uTdEVdGWEKNh0ZRp08pK_AVnrm', output='Download')"
      ],
      "metadata": {
        "id": "6OyLqXvpyFur",
        "colab": {
          "base_uri": "https://localhost:8080/"
        },
        "outputId": "473b58bc-e0d6-47c4-c28c-2907d0c8d8b3"
      },
      "execution_count": null,
      "outputs": [
        {
          "output_type": "stream",
          "name": "stderr",
          "text": [
            "Retrieving folder contents\n"
          ]
        },
        {
          "output_type": "stream",
          "name": "stdout",
          "text": [
            "Processing file 1wHcBG5ScNKOxQixT6XZElaYYnLe5YtTh images.hdf5\n",
            "Processing file 19NhzTlMREy2ct5kaXJyuZjSrgrSq2zIOMSiiTuGCPbI metadata\n",
            "Processing file 1RZTnXKRaoVzszG8zQgBgmdnGyGXL_CO3rmbf3QpDNbU Problem Statement\n",
            "Processing file 1N9oQCi5zklHrv-AXRF6RBiiAzmxc4i2y subject_data.csv\n"
          ]
        },
        {
          "output_type": "stream",
          "name": "stderr",
          "text": [
            "Retrieving folder contents completed\n",
            "Building directory structure\n",
            "Building directory structure completed\n",
            "Downloading...\n",
            "From (original): https://drive.google.com/uc?id=1wHcBG5ScNKOxQixT6XZElaYYnLe5YtTh\n",
            "From (redirected): https://drive.google.com/uc?id=1wHcBG5ScNKOxQixT6XZElaYYnLe5YtTh&confirm=t&uuid=46322a91-77e2-4141-b2ae-7cffe1fd928e\n",
            "To: /content/Download/images.hdf5\n",
            "100%|██████████| 1.30G/1.30G [00:10<00:00, 128MB/s] \n",
            "Downloading...\n",
            "From (original): https://drive.google.com/uc?id=19NhzTlMREy2ct5kaXJyuZjSrgrSq2zIOMSiiTuGCPbI\n",
            "From (redirected): https://docs.google.com/spreadsheets/d/19NhzTlMREy2ct5kaXJyuZjSrgrSq2zIOMSiiTuGCPbI/export?format=xlsx\n",
            "To: /content/Download/metadata\n",
            "52.7kB [00:00, 1.67MB/s]\n",
            "Downloading...\n",
            "From (original): https://drive.google.com/uc?id=1RZTnXKRaoVzszG8zQgBgmdnGyGXL_CO3rmbf3QpDNbU\n",
            "From (redirected): https://docs.google.com/document/d/1RZTnXKRaoVzszG8zQgBgmdnGyGXL_CO3rmbf3QpDNbU/export?format=docx\n",
            "To: /content/Download/Problem Statement\n",
            "78.3kB [00:00, 289kB/s]\n",
            "Downloading...\n",
            "From (original): https://drive.google.com/uc?id=1N9oQCi5zklHrv-AXRF6RBiiAzmxc4i2y\n",
            "From (redirected): https://drive.google.com/uc?id=1N9oQCi5zklHrv-AXRF6RBiiAzmxc4i2y&confirm=t&uuid=a17e86b6-16c7-4ea9-a0ca-9dba0605d706\n",
            "To: /content/Download/subject_data.csv\n",
            "100%|██████████| 258M/258M [00:04<00:00, 58.0MB/s]\n",
            "Download completed\n"
          ]
        },
        {
          "output_type": "execute_result",
          "data": {
            "text/plain": [
              "['Download/images.hdf5',\n",
              " 'Download/metadata',\n",
              " 'Download/Problem Statement',\n",
              " 'Download/subject_data.csv']"
            ]
          },
          "metadata": {},
          "execution_count": 2
        }
      ]
    },
    {
      "cell_type": "code",
      "execution_count": null,
      "metadata": {
        "colab": {
          "base_uri": "https://localhost:8080/",
          "height": 145
        },
        "id": "XE9yhZexkVBM",
        "outputId": "d83a1e8a-2a5e-4d67-ffb5-bb51cb834fdd"
      },
      "outputs": [
        {
          "output_type": "stream",
          "name": "stderr",
          "text": [
            "Downloading...\n",
            "From (original): https://drive.google.com/uc?id=1N9oQCi5zklHrv-AXRF6RBiiAzmxc4i2y\n",
            "From (redirected): https://drive.google.com/uc?id=1N9oQCi5zklHrv-AXRF6RBiiAzmxc4i2y&confirm=t&uuid=a92fabc2-105c-4472-baef-aef71a5668bc\n",
            "To: /content/Download/subject_data.csv\n",
            "100%|██████████| 258M/258M [00:02<00:00, 108MB/s] \n"
          ]
        },
        {
          "output_type": "execute_result",
          "data": {
            "text/plain": [
              "'Download/subject_data.csv'"
            ],
            "application/vnd.google.colaboratory.intrinsic+json": {
              "type": "string"
            }
          },
          "metadata": {},
          "execution_count": 3
        }
      ],
      "source": [
        "gdown.download('https://drive.google.com/uc?id=1N9oQCi5zklHrv-AXRF6RBiiAzmxc4i2y', output='Download/subject_data.csv')"
      ]
    },
    {
      "cell_type": "code",
      "source": [
        "df = pd.read_csv('Download/subject_data.csv')\n",
        "print(df)\n",
        "df.columns"
      ],
      "metadata": {
        "id": "_iB5VaeRyJot",
        "colab": {
          "base_uri": "https://localhost:8080/"
        },
        "outputId": "97da5ffe-da8e-424f-a2f3-da2367009f51"
      },
      "execution_count": null,
      "outputs": [
        {
          "output_type": "stream",
          "name": "stderr",
          "text": [
            "/tmp/ipython-input-2662961776.py:1: DtypeWarning: Columns (51,52) have mixed types. Specify dtype option on import or set low_memory=False.\n",
            "  df = pd.read_csv('Download/subject_data.csv')\n"
          ]
        },
        {
          "output_type": "stream",
          "name": "stdout",
          "text": [
            "             isic_id  target  patient_id  age_approx     sex  \\\n",
            "0       ISIC_0015670       0  IP_1235828        60.0    male   \n",
            "1       ISIC_0015845       0  IP_8170065        60.0    male   \n",
            "2       ISIC_0015864       0  IP_6724798        60.0    male   \n",
            "3       ISIC_0015902       0  IP_4111386        65.0    male   \n",
            "4       ISIC_0024200       0  IP_8313778        55.0    male   \n",
            "...              ...     ...         ...         ...     ...   \n",
            "401054  ISIC_9999937       0  IP_1140263        70.0    male   \n",
            "401055  ISIC_9999951       0  IP_5678181        60.0    male   \n",
            "401056  ISIC_9999960       0  IP_0076153        65.0  female   \n",
            "401057  ISIC_9999964       0  IP_5231513        30.0  female   \n",
            "401058  ISIC_9999967       0  IP_6426047        50.0    male   \n",
            "\n",
            "       anatom_site_general  clin_size_long_diam_mm          image_type  \\\n",
            "0          lower extremity                    3.04  TBP tile: close-up   \n",
            "1                head/neck                    1.10  TBP tile: close-up   \n",
            "2          posterior torso                    3.40  TBP tile: close-up   \n",
            "3           anterior torso                    3.22  TBP tile: close-up   \n",
            "4           anterior torso                    2.73  TBP tile: close-up   \n",
            "...                    ...                     ...                 ...   \n",
            "401054      anterior torso                    6.80  TBP tile: close-up   \n",
            "401055     posterior torso                    3.11  TBP tile: close-up   \n",
            "401056      anterior torso                    2.05  TBP tile: close-up   \n",
            "401057      anterior torso                    2.80  TBP tile: close-up   \n",
            "401058     lower extremity                    3.30  TBP tile: close-up   \n",
            "\n",
            "       tbp_tile_type   tbp_lv_A  ...   lesion_id  iddx_full  iddx_1  iddx_2  \\\n",
            "0          3D: white  20.244422  ...         NaN     Benign  Benign     NaN   \n",
            "1          3D: white  31.712570  ...  IL_6727506     Benign  Benign     NaN   \n",
            "2             3D: XP  22.575830  ...         NaN     Benign  Benign     NaN   \n",
            "3             3D: XP  14.242329  ...         NaN     Benign  Benign     NaN   \n",
            "4          3D: white  24.725520  ...         NaN     Benign  Benign     NaN   \n",
            "...              ...        ...  ...         ...        ...     ...     ...   \n",
            "401054        3D: XP  22.574335  ...  IL_9520694     Benign  Benign     NaN   \n",
            "401055     3D: white  19.977640  ...         NaN     Benign  Benign     NaN   \n",
            "401056        3D: XP  17.332567  ...  IL_9852274     Benign  Benign     NaN   \n",
            "401057        3D: XP  22.288570  ...         NaN     Benign  Benign     NaN   \n",
            "401058        3D: XP  16.792900  ...         NaN     Benign  Benign     NaN   \n",
            "\n",
            "        iddx_3  iddx_4  iddx_5  mel_mitotic_index  mel_thick_mm  \\\n",
            "0          NaN     NaN     NaN                NaN           NaN   \n",
            "1          NaN     NaN     NaN                NaN           NaN   \n",
            "2          NaN     NaN     NaN                NaN           NaN   \n",
            "3          NaN     NaN     NaN                NaN           NaN   \n",
            "4          NaN     NaN     NaN                NaN           NaN   \n",
            "...        ...     ...     ...                ...           ...   \n",
            "401054     NaN     NaN     NaN                NaN           NaN   \n",
            "401055     NaN     NaN     NaN                NaN           NaN   \n",
            "401056     NaN     NaN     NaN                NaN           NaN   \n",
            "401057     NaN     NaN     NaN                NaN           NaN   \n",
            "401058     NaN     NaN     NaN                NaN           NaN   \n",
            "\n",
            "        tbp_lv_dnn_lesion_confidence  \n",
            "0                          97.517282  \n",
            "1                           3.141455  \n",
            "2                          99.804040  \n",
            "3                          99.989998  \n",
            "4                          70.442510  \n",
            "...                              ...  \n",
            "401054                     99.999988  \n",
            "401055                     99.999820  \n",
            "401056                     99.999416  \n",
            "401057                    100.000000  \n",
            "401058                     99.999960  \n",
            "\n",
            "[401059 rows x 55 columns]\n"
          ]
        },
        {
          "output_type": "execute_result",
          "data": {
            "text/plain": [
              "Index(['isic_id', 'target', 'patient_id', 'age_approx', 'sex',\n",
              "       'anatom_site_general', 'clin_size_long_diam_mm', 'image_type',\n",
              "       'tbp_tile_type', 'tbp_lv_A', 'tbp_lv_Aext', 'tbp_lv_B', 'tbp_lv_Bext',\n",
              "       'tbp_lv_C', 'tbp_lv_Cext', 'tbp_lv_H', 'tbp_lv_Hext', 'tbp_lv_L',\n",
              "       'tbp_lv_Lext', 'tbp_lv_areaMM2', 'tbp_lv_area_perim_ratio',\n",
              "       'tbp_lv_color_std_mean', 'tbp_lv_deltaA', 'tbp_lv_deltaB',\n",
              "       'tbp_lv_deltaL', 'tbp_lv_deltaLB', 'tbp_lv_deltaLBnorm',\n",
              "       'tbp_lv_eccentricity', 'tbp_lv_location', 'tbp_lv_location_simple',\n",
              "       'tbp_lv_minorAxisMM', 'tbp_lv_nevi_confidence', 'tbp_lv_norm_border',\n",
              "       'tbp_lv_norm_color', 'tbp_lv_perimeterMM',\n",
              "       'tbp_lv_radial_color_std_max', 'tbp_lv_stdL', 'tbp_lv_stdLExt',\n",
              "       'tbp_lv_symm_2axis', 'tbp_lv_symm_2axis_angle', 'tbp_lv_x', 'tbp_lv_y',\n",
              "       'tbp_lv_z', 'attribution', 'copyright_license', 'lesion_id',\n",
              "       'iddx_full', 'iddx_1', 'iddx_2', 'iddx_3', 'iddx_4', 'iddx_5',\n",
              "       'mel_mitotic_index', 'mel_thick_mm', 'tbp_lv_dnn_lesion_confidence'],\n",
              "      dtype='object')"
            ]
          },
          "metadata": {},
          "execution_count": 3
        }
      ]
    },
    {
      "cell_type": "code",
      "source": [
        "meta_features = ['age_approx', 'sex', 'clin_size_long_diam_mm', 'tbp_lv_A', 'tbp_lv_Aext', 'tbp_lv_B', 'tbp_lv_Bext',\n",
        "       'tbp_lv_C', 'tbp_lv_Cext', 'tbp_lv_H', 'tbp_lv_Hext', 'tbp_lv_L',\n",
        "       'tbp_lv_Lext', 'tbp_lv_areaMM2', 'tbp_lv_area_perim_ratio',\n",
        "       'tbp_lv_color_std_mean', 'tbp_lv_deltaA', 'tbp_lv_deltaB',\n",
        "       'tbp_lv_deltaL', 'tbp_lv_deltaLB', 'tbp_lv_deltaLBnorm',\n",
        "       'tbp_lv_eccentricity', 'tbp_lv_location', 'tbp_lv_minorAxisMM', 'tbp_lv_norm_border',\n",
        "       'tbp_lv_norm_color', 'tbp_lv_perimeterMM',\n",
        "       'tbp_lv_radial_color_std_max', 'tbp_lv_stdL', 'tbp_lv_stdLExt',\n",
        "       'tbp_lv_symm_2axis', 'tbp_lv_symm_2axis_angle']"
      ],
      "metadata": {
        "id": "ysKL0Q4s9qDo"
      },
      "execution_count": null,
      "outputs": []
    },
    {
      "cell_type": "code",
      "source": [
        "# !pip install h5py\n",
        "import h5py\n",
        "images_file = 'Download/images.hdf5'\n",
        "\n",
        "\n",
        "images_hdf5 = h5py.File(images_file, 'r')\n",
        "img_keys = list(images_hdf5.keys())\n",
        "\n",
        "\n",
        "def get_img(key):\n",
        "  if key not in img_keys: return None\n",
        "  img = Image.open(io.BytesIO(images_hdf5[key][()]))\n",
        "  return np.array(img)\n",
        "\n",
        "def get_img_pil(key):\n",
        "  if key not in img_keys: return None\n",
        "  return Image.open(io.BytesIO(images_hdf5[key][()]))\n"
      ],
      "metadata": {
        "id": "NxveqPbz_6_8"
      },
      "execution_count": null,
      "outputs": []
    },
    {
      "cell_type": "code",
      "source": [
        "import os\n",
        "from PIL import Image\n",
        "import io\n",
        "import h5py\n",
        "from tqdm.auto import tqdm\n",
        "\n",
        "\n",
        "\n",
        "output_dir = 'Images'\n",
        "os.makedirs(output_dir, exist_ok=True)\n",
        "\n",
        "print(f\"Extracting images from {images_file} to {output_dir}...\")\n",
        "\n",
        "for img_id in tqdm(img_keys, desc=\"Extracting Images\"):\n",
        "    try:\n",
        "        img_data = images_hdf5[img_id][()]\n",
        "        img = Image.open(io.BytesIO(img_data))\n",
        "        img_path = os.path.join(output_dir, f\"{img_id}.jpg\") # Save as JPEG\n",
        "        img.save(img_path)\n",
        "    except Exception as e:\n",
        "        print(f\"Error extracting image {img_id}: {e}\")\n",
        "\n",
        "print(\"Image extraction complete.\")\n",
        "\n",
        "images_hdf5.close()"
      ],
      "metadata": {
        "id": "rOqvnobQyiGr",
        "colab": {
          "base_uri": "https://localhost:8080/",
          "height": 85,
          "referenced_widgets": [
            "62d589d92568466aa8e80fbb079ceada",
            "9553a6b2429348cea804a05e6ec0fd7c",
            "2d80562171844e72bc99dd66a51f01d9",
            "4e4581b9bd974bfdac9e37f81d6686cd",
            "bf4bc190214c4bd3bae6bd9e9223e872",
            "6ea461a0e33c46e1b5eb78c97d3f69ab",
            "675482fe564d477db8ce7fcd3715fcac",
            "8d3efa512ff84733a2deb15173c872f2",
            "621da0c9092e4a17a30b56f66107ea97",
            "5e0561bf0cdc48bd8825a8afb8ec3f37",
            "3f484b8afb294c80bdc6dd95c8b1dec6"
          ]
        },
        "outputId": "d93ac251-85c1-4de6-aa3a-03e003d396b1"
      },
      "execution_count": null,
      "outputs": [
        {
          "metadata": {
            "tags": null
          },
          "name": "stdout",
          "output_type": "stream",
          "text": [
            "Extracting images from Download/images.hdf5 to Images...\n"
          ]
        },
        {
          "data": {
            "application/vnd.jupyter.widget-view+json": {
              "model_id": "62d589d92568466aa8e80fbb079ceada",
              "version_major": 2,
              "version_minor": 0
            },
            "text/plain": [
              "Extracting Images:   0%|          | 0/401059 [00:00<?, ?it/s]"
            ]
          },
          "metadata": {},
          "output_type": "display_data"
        },
        {
          "output_type": "stream",
          "name": "stdout",
          "text": [
            "Image extraction complete.\n"
          ]
        }
      ]
    },
    {
      "cell_type": "markdown",
      "source": [
        "Testing out models by made by others on our dataset"
      ],
      "metadata": {
        "id": "3qSDQ61Klz0L"
      }
    },
    {
      "cell_type": "code",
      "metadata": {
        "colab": {
          "base_uri": "https://localhost:8080/"
        },
        "id": "86e7ca4f",
        "outputId": "8eb624ae-9653-4cbd-d64d-2afb2b1c83d1"
      },
      "source": [
        "import tensorflow as tf\n",
        "from tensorflow.keras.models import load_model\n",
        "\n",
        "# Load the model\n",
        "model = load_model('mymodel-2.h5')\n",
        "\n",
        "# You can then print the model summary to verify\n",
        "model.summary()"
      ],
      "execution_count": null,
      "outputs": [
        {
          "output_type": "stream",
          "name": "stdout",
          "text": [
            "Model: \"sequential\"\n",
            "_________________________________________________________________\n",
            " Layer (type)                Output Shape              Param #   \n",
            "=================================================================\n",
            " conv2d_1 (Conv2D)           (None, 126, 126, 32)      896       \n",
            "                                                                 \n",
            " activation_1 (Activation)   (None, 126, 126, 32)      0         \n",
            "                                                                 \n",
            " max_pooling2d_1 (MaxPooling  (None, 63, 63, 32)       0         \n",
            " 2D)                                                             \n",
            "                                                                 \n",
            " conv2d_2 (Conv2D)           (None, 61, 61, 32)        9248      \n",
            "                                                                 \n",
            " activation_2 (Activation)   (None, 61, 61, 32)        0         \n",
            "                                                                 \n",
            " max_pooling2d_2 (MaxPooling  (None, 30, 30, 32)       0         \n",
            " 2D)                                                             \n",
            "                                                                 \n",
            " conv2d_3 (Conv2D)           (None, 28, 28, 64)        18496     \n",
            "                                                                 \n",
            " activation_3 (Activation)   (None, 28, 28, 64)        0         \n",
            "                                                                 \n",
            " max_pooling2d_3 (MaxPooling  (None, 14, 14, 64)       0         \n",
            " 2D)                                                             \n",
            "                                                                 \n",
            " flatten_1 (Flatten)         (None, 12544)             0         \n",
            "                                                                 \n",
            " dense_1 (Dense)             (None, 64)                802880    \n",
            "                                                                 \n",
            " activation_4 (Activation)   (None, 64)                0         \n",
            "                                                                 \n",
            " dropout_1 (Dropout)         (None, 64)                0         \n",
            "                                                                 \n",
            " dense_2 (Dense)             (None, 1)                 65        \n",
            "                                                                 \n",
            " activation_5 (Activation)   (None, 1)                 0         \n",
            "                                                                 \n",
            "=================================================================\n",
            "Total params: 831,585\n",
            "Trainable params: 831,585\n",
            "Non-trainable params: 0\n",
            "_________________________________________________________________\n"
          ]
        }
      ]
    },
    {
      "cell_type": "code",
      "metadata": {
        "colab": {
          "base_uri": "https://localhost:8080/",
          "height": 335
        },
        "id": "90088e6b",
        "outputId": "61da704a-ad19-4d2b-e121-abe1d517b9ba"
      },
      "source": [
        "!pip uninstall keras -y\n",
        "\n",
        "!pip install keras==2.12.0"
      ],
      "execution_count": null,
      "outputs": [
        {
          "output_type": "stream",
          "name": "stdout",
          "text": [
            "Found existing installation: keras 3.11.1\n",
            "Uninstalling keras-3.11.1:\n",
            "  Successfully uninstalled keras-3.11.1\n",
            "Collecting keras==2.12.0\n",
            "  Using cached keras-2.12.0-py2.py3-none-any.whl.metadata (1.4 kB)\n",
            "Using cached keras-2.12.0-py2.py3-none-any.whl (1.7 MB)\n",
            "Installing collected packages: keras\n",
            "\u001b[31mERROR: pip's dependency resolver does not currently take into account all the packages that are installed. This behaviour is the source of the following dependency conflicts.\n",
            "tensorflow 2.19.0 requires keras>=3.5.0, but you have keras 2.12.0 which is incompatible.\n",
            "keras-hub 0.21.1 requires keras>=3.5, but you have keras 2.12.0 which is incompatible.\u001b[0m\u001b[31m\n",
            "\u001b[0mSuccessfully installed keras-2.12.0\n"
          ]
        },
        {
          "output_type": "display_data",
          "data": {
            "application/vnd.colab-display-data+json": {
              "pip_warning": {
                "packages": [
                  "keras"
                ]
              },
              "id": "95b21f75f90742638d54c30dce98b2d6"
            }
          },
          "metadata": {}
        }
      ]
    },
    {
      "cell_type": "code",
      "metadata": {
        "colab": {
          "base_uri": "https://localhost:8080/",
          "height": 1000
        },
        "id": "b98fd6a5",
        "outputId": "fee1db70-8940-4f57-a788-085393b7ec28"
      },
      "source": [
        "!pip uninstall tensorflow -y\n",
        "\n",
        "!pip install tensorflow==2.12.0"
      ],
      "execution_count": null,
      "outputs": [
        {
          "output_type": "stream",
          "name": "stdout",
          "text": [
            "Found existing installation: tensorflow 2.19.0\n",
            "Uninstalling tensorflow-2.19.0:\n",
            "  Successfully uninstalled tensorflow-2.19.0\n",
            "Collecting tensorflow==2.12.0\n",
            "  Downloading tensorflow-2.12.0-cp311-cp311-manylinux_2_17_x86_64.manylinux2014_x86_64.whl.metadata (3.4 kB)\n",
            "Requirement already satisfied: absl-py>=1.0.0 in /usr/local/lib/python3.11/dist-packages (from tensorflow==2.12.0) (1.4.0)\n",
            "Requirement already satisfied: astunparse>=1.6.0 in /usr/local/lib/python3.11/dist-packages (from tensorflow==2.12.0) (1.6.3)\n",
            "Requirement already satisfied: flatbuffers>=2.0 in /usr/local/lib/python3.11/dist-packages (from tensorflow==2.12.0) (25.2.10)\n",
            "Collecting gast<=0.4.0,>=0.2.1 (from tensorflow==2.12.0)\n",
            "  Downloading gast-0.4.0-py3-none-any.whl.metadata (1.1 kB)\n",
            "Requirement already satisfied: google-pasta>=0.1.1 in /usr/local/lib/python3.11/dist-packages (from tensorflow==2.12.0) (0.2.0)\n",
            "Requirement already satisfied: grpcio<2.0,>=1.24.3 in /usr/local/lib/python3.11/dist-packages (from tensorflow==2.12.0) (1.74.0)\n",
            "Requirement already satisfied: h5py>=2.9.0 in /usr/local/lib/python3.11/dist-packages (from tensorflow==2.12.0) (3.14.0)\n",
            "Requirement already satisfied: jax>=0.3.15 in /usr/local/lib/python3.11/dist-packages (from tensorflow==2.12.0) (0.5.3)\n",
            "Requirement already satisfied: keras<2.13,>=2.12.0 in /usr/local/lib/python3.11/dist-packages (from tensorflow==2.12.0) (2.12.0)\n",
            "Requirement already satisfied: libclang>=13.0.0 in /usr/local/lib/python3.11/dist-packages (from tensorflow==2.12.0) (18.1.1)\n",
            "Collecting numpy<1.24,>=1.22 (from tensorflow==2.12.0)\n",
            "  Downloading numpy-1.23.5-cp311-cp311-manylinux_2_17_x86_64.manylinux2014_x86_64.whl.metadata (2.3 kB)\n",
            "Requirement already satisfied: opt-einsum>=2.3.2 in /usr/local/lib/python3.11/dist-packages (from tensorflow==2.12.0) (3.4.0)\n",
            "Requirement already satisfied: packaging in /usr/local/lib/python3.11/dist-packages (from tensorflow==2.12.0) (25.0)\n",
            "Collecting protobuf!=4.21.0,!=4.21.1,!=4.21.2,!=4.21.3,!=4.21.4,!=4.21.5,<5.0.0dev,>=3.20.3 (from tensorflow==2.12.0)\n",
            "  Downloading protobuf-4.25.8-cp37-abi3-manylinux2014_x86_64.whl.metadata (541 bytes)\n",
            "Requirement already satisfied: setuptools in /usr/local/lib/python3.11/dist-packages (from tensorflow==2.12.0) (75.2.0)\n",
            "Requirement already satisfied: six>=1.12.0 in /usr/local/lib/python3.11/dist-packages (from tensorflow==2.12.0) (1.17.0)\n",
            "Collecting tensorboard<2.13,>=2.12 (from tensorflow==2.12.0)\n",
            "  Downloading tensorboard-2.12.3-py3-none-any.whl.metadata (1.8 kB)\n",
            "Collecting tensorflow-estimator<2.13,>=2.12.0 (from tensorflow==2.12.0)\n",
            "  Downloading tensorflow_estimator-2.12.0-py2.py3-none-any.whl.metadata (1.3 kB)\n",
            "Requirement already satisfied: termcolor>=1.1.0 in /usr/local/lib/python3.11/dist-packages (from tensorflow==2.12.0) (3.1.0)\n",
            "Requirement already satisfied: typing-extensions>=3.6.6 in /usr/local/lib/python3.11/dist-packages (from tensorflow==2.12.0) (4.14.1)\n",
            "Collecting wrapt<1.15,>=1.11.0 (from tensorflow==2.12.0)\n",
            "  Downloading wrapt-1.14.1-cp311-cp311-manylinux_2_5_x86_64.manylinux1_x86_64.manylinux_2_17_x86_64.manylinux2014_x86_64.whl.metadata (6.7 kB)\n",
            "Requirement already satisfied: tensorflow-io-gcs-filesystem>=0.23.1 in /usr/local/lib/python3.11/dist-packages (from tensorflow==2.12.0) (0.37.1)\n",
            "Requirement already satisfied: wheel<1.0,>=0.23.0 in /usr/local/lib/python3.11/dist-packages (from astunparse>=1.6.0->tensorflow==2.12.0) (0.45.1)\n",
            "Requirement already satisfied: jaxlib<=0.5.3,>=0.5.3 in /usr/local/lib/python3.11/dist-packages (from jax>=0.3.15->tensorflow==2.12.0) (0.5.3)\n",
            "Requirement already satisfied: ml_dtypes>=0.4.0 in /usr/local/lib/python3.11/dist-packages (from jax>=0.3.15->tensorflow==2.12.0) (0.5.3)\n",
            "INFO: pip is looking at multiple versions of jax to determine which version is compatible with other requirements. This could take a while.\n",
            "Collecting jax>=0.3.15 (from tensorflow==2.12.0)\n",
            "  Downloading jax-0.7.0-py3-none-any.whl.metadata (13 kB)\n",
            "Collecting jaxlib<=0.7.0,>=0.7.0 (from jax>=0.3.15->tensorflow==2.12.0)\n",
            "  Downloading jaxlib-0.7.0-cp311-cp311-manylinux2014_x86_64.whl.metadata (1.3 kB)\n",
            "Collecting jax>=0.3.15 (from tensorflow==2.12.0)\n",
            "  Downloading jax-0.6.2-py3-none-any.whl.metadata (13 kB)\n",
            "Collecting jaxlib<=0.6.2,>=0.6.2 (from jax>=0.3.15->tensorflow==2.12.0)\n",
            "  Downloading jaxlib-0.6.2-cp311-cp311-manylinux2014_x86_64.whl.metadata (1.3 kB)\n",
            "Collecting jax>=0.3.15 (from tensorflow==2.12.0)\n",
            "  Downloading jax-0.6.1-py3-none-any.whl.metadata (13 kB)\n",
            "Collecting jaxlib<=0.6.1,>=0.6.1 (from jax>=0.3.15->tensorflow==2.12.0)\n",
            "  Downloading jaxlib-0.6.1-cp311-cp311-manylinux2014_x86_64.whl.metadata (1.2 kB)\n",
            "Collecting jax>=0.3.15 (from tensorflow==2.12.0)\n",
            "  Downloading jax-0.6.0-py3-none-any.whl.metadata (22 kB)\n",
            "Collecting jaxlib<=0.6.0,>=0.6.0 (from jax>=0.3.15->tensorflow==2.12.0)\n",
            "  Downloading jaxlib-0.6.0-cp311-cp311-manylinux2014_x86_64.whl.metadata (1.2 kB)\n",
            "Collecting jax>=0.3.15 (from tensorflow==2.12.0)\n",
            "  Downloading jax-0.5.2-py3-none-any.whl.metadata (22 kB)\n",
            "Collecting jaxlib<=0.5.2,>=0.5.1 (from jax>=0.3.15->tensorflow==2.12.0)\n",
            "  Downloading jaxlib-0.5.1-cp311-cp311-manylinux2014_x86_64.whl.metadata (978 bytes)\n",
            "Collecting jax>=0.3.15 (from tensorflow==2.12.0)\n",
            "  Downloading jax-0.5.1-py3-none-any.whl.metadata (22 kB)\n",
            "  Downloading jax-0.5.0-py3-none-any.whl.metadata (22 kB)\n",
            "Collecting jaxlib<=0.5.0,>=0.5.0 (from jax>=0.3.15->tensorflow==2.12.0)\n",
            "  Downloading jaxlib-0.5.0-cp311-cp311-manylinux2014_x86_64.whl.metadata (978 bytes)\n",
            "INFO: pip is still looking at multiple versions of jax to determine which version is compatible with other requirements. This could take a while.\n",
            "Collecting jax>=0.3.15 (from tensorflow==2.12.0)\n",
            "  Downloading jax-0.4.38-py3-none-any.whl.metadata (22 kB)\n",
            "Collecting jaxlib<=0.4.38,>=0.4.38 (from jax>=0.3.15->tensorflow==2.12.0)\n",
            "  Downloading jaxlib-0.4.38-cp311-cp311-manylinux2014_x86_64.whl.metadata (1.0 kB)\n",
            "Collecting jax>=0.3.15 (from tensorflow==2.12.0)\n",
            "  Downloading jax-0.4.37-py3-none-any.whl.metadata (22 kB)\n",
            "Collecting jaxlib<=0.4.37,>=0.4.36 (from jax>=0.3.15->tensorflow==2.12.0)\n",
            "  Downloading jaxlib-0.4.36-cp311-cp311-manylinux2014_x86_64.whl.metadata (1.0 kB)\n",
            "Collecting jax>=0.3.15 (from tensorflow==2.12.0)\n",
            "  Downloading jax-0.4.36-py3-none-any.whl.metadata (22 kB)\n",
            "  Downloading jax-0.4.35-py3-none-any.whl.metadata (22 kB)\n",
            "Collecting jaxlib<=0.4.35,>=0.4.34 (from jax>=0.3.15->tensorflow==2.12.0)\n",
            "  Downloading jaxlib-0.4.35-cp311-cp311-manylinux2014_x86_64.whl.metadata (983 bytes)\n",
            "Collecting jax>=0.3.15 (from tensorflow==2.12.0)\n",
            "  Downloading jax-0.4.34-py3-none-any.whl.metadata (22 kB)\n",
            "Collecting jaxlib<=0.4.34,>=0.4.34 (from jax>=0.3.15->tensorflow==2.12.0)\n",
            "  Downloading jaxlib-0.4.34-cp311-cp311-manylinux2014_x86_64.whl.metadata (983 bytes)\n",
            "INFO: This is taking longer than usual. You might need to provide the dependency resolver with stricter constraints to reduce runtime. See https://pip.pypa.io/warnings/backtracking for guidance. If you want to abort this run, press Ctrl + C.\n",
            "Collecting jax>=0.3.15 (from tensorflow==2.12.0)\n",
            "  Downloading jax-0.4.33-py3-none-any.whl.metadata (22 kB)\n",
            "Collecting jaxlib<=0.4.33,>=0.4.33 (from jax>=0.3.15->tensorflow==2.12.0)\n",
            "  Downloading jaxlib-0.4.33-cp311-cp311-manylinux2014_x86_64.whl.metadata (983 bytes)\n",
            "Collecting jax>=0.3.15 (from tensorflow==2.12.0)\n",
            "  Downloading jax-0.4.31-py3-none-any.whl.metadata (22 kB)\n",
            "Collecting jaxlib<=0.4.31,>=0.4.30 (from jax>=0.3.15->tensorflow==2.12.0)\n",
            "  Downloading jaxlib-0.4.31-cp311-cp311-manylinux2014_x86_64.whl.metadata (983 bytes)\n",
            "Collecting jax>=0.3.15 (from tensorflow==2.12.0)\n",
            "  Downloading jax-0.4.30-py3-none-any.whl.metadata (22 kB)\n",
            "Collecting jaxlib<=0.4.30,>=0.4.27 (from jax>=0.3.15->tensorflow==2.12.0)\n",
            "  Downloading jaxlib-0.4.30-cp311-cp311-manylinux2014_x86_64.whl.metadata (1.0 kB)\n",
            "Requirement already satisfied: scipy>=1.9 in /usr/local/lib/python3.11/dist-packages (from jax>=0.3.15->tensorflow==2.12.0) (1.16.1)\n",
            "Requirement already satisfied: google-auth<3,>=1.6.3 in /usr/local/lib/python3.11/dist-packages (from tensorboard<2.13,>=2.12->tensorflow==2.12.0) (2.38.0)\n",
            "Collecting google-auth-oauthlib<1.1,>=0.5 (from tensorboard<2.13,>=2.12->tensorflow==2.12.0)\n",
            "  Downloading google_auth_oauthlib-1.0.0-py2.py3-none-any.whl.metadata (2.7 kB)\n",
            "Requirement already satisfied: markdown>=2.6.8 in /usr/local/lib/python3.11/dist-packages (from tensorboard<2.13,>=2.12->tensorflow==2.12.0) (3.8.2)\n",
            "Requirement already satisfied: requests<3,>=2.21.0 in /usr/local/lib/python3.11/dist-packages (from tensorboard<2.13,>=2.12->tensorflow==2.12.0) (2.32.3)\n",
            "Requirement already satisfied: tensorboard-data-server<0.8.0,>=0.7.0 in /usr/local/lib/python3.11/dist-packages (from tensorboard<2.13,>=2.12->tensorflow==2.12.0) (0.7.2)\n",
            "Requirement already satisfied: werkzeug>=1.0.1 in /usr/local/lib/python3.11/dist-packages (from tensorboard<2.13,>=2.12->tensorflow==2.12.0) (3.1.3)\n",
            "Requirement already satisfied: cachetools<6.0,>=2.0.0 in /usr/local/lib/python3.11/dist-packages (from google-auth<3,>=1.6.3->tensorboard<2.13,>=2.12->tensorflow==2.12.0) (5.5.2)\n",
            "Requirement already satisfied: pyasn1-modules>=0.2.1 in /usr/local/lib/python3.11/dist-packages (from google-auth<3,>=1.6.3->tensorboard<2.13,>=2.12->tensorflow==2.12.0) (0.4.2)\n",
            "Requirement already satisfied: rsa<5,>=3.1.4 in /usr/local/lib/python3.11/dist-packages (from google-auth<3,>=1.6.3->tensorboard<2.13,>=2.12->tensorflow==2.12.0) (4.9.1)\n",
            "Requirement already satisfied: requests-oauthlib>=0.7.0 in /usr/local/lib/python3.11/dist-packages (from google-auth-oauthlib<1.1,>=0.5->tensorboard<2.13,>=2.12->tensorflow==2.12.0) (2.0.0)\n",
            "Requirement already satisfied: charset-normalizer<4,>=2 in /usr/local/lib/python3.11/dist-packages (from requests<3,>=2.21.0->tensorboard<2.13,>=2.12->tensorflow==2.12.0) (3.4.2)\n",
            "Requirement already satisfied: idna<4,>=2.5 in /usr/local/lib/python3.11/dist-packages (from requests<3,>=2.21.0->tensorboard<2.13,>=2.12->tensorflow==2.12.0) (3.10)\n",
            "Requirement already satisfied: urllib3<3,>=1.21.1 in /usr/local/lib/python3.11/dist-packages (from requests<3,>=2.21.0->tensorboard<2.13,>=2.12->tensorflow==2.12.0) (2.5.0)\n",
            "Requirement already satisfied: certifi>=2017.4.17 in /usr/local/lib/python3.11/dist-packages (from requests<3,>=2.21.0->tensorboard<2.13,>=2.12->tensorflow==2.12.0) (2025.8.3)\n",
            "INFO: pip is looking at multiple versions of scipy to determine which version is compatible with other requirements. This could take a while.\n",
            "Collecting scipy>=1.9 (from jax>=0.3.15->tensorflow==2.12.0)\n",
            "  Downloading scipy-1.16.0-cp311-cp311-manylinux2014_x86_64.manylinux_2_17_x86_64.whl.metadata (61 kB)\n",
            "\u001b[2K     \u001b[90m━━━━━━━━━━━━━━━━━━━━━━━━━━━━━━━━━━━━━━━━\u001b[0m \u001b[32m61.9/61.9 kB\u001b[0m \u001b[31m2.4 MB/s\u001b[0m eta \u001b[36m0:00:00\u001b[0m\n",
            "\u001b[?25h  Downloading scipy-1.15.3-cp311-cp311-manylinux_2_17_x86_64.manylinux2014_x86_64.whl.metadata (61 kB)\n",
            "\u001b[2K     \u001b[90m━━━━━━━━━━━━━━━━━━━━━━━━━━━━━━━━━━━━━━━━\u001b[0m \u001b[32m62.0/62.0 kB\u001b[0m \u001b[31m5.7 MB/s\u001b[0m eta \u001b[36m0:00:00\u001b[0m\n",
            "\u001b[?25hRequirement already satisfied: MarkupSafe>=2.1.1 in /usr/local/lib/python3.11/dist-packages (from werkzeug>=1.0.1->tensorboard<2.13,>=2.12->tensorflow==2.12.0) (3.0.2)\n",
            "Requirement already satisfied: pyasn1<0.7.0,>=0.6.1 in /usr/local/lib/python3.11/dist-packages (from pyasn1-modules>=0.2.1->google-auth<3,>=1.6.3->tensorboard<2.13,>=2.12->tensorflow==2.12.0) (0.6.1)\n",
            "Requirement already satisfied: oauthlib>=3.0.0 in /usr/local/lib/python3.11/dist-packages (from requests-oauthlib>=0.7.0->google-auth-oauthlib<1.1,>=0.5->tensorboard<2.13,>=2.12->tensorflow==2.12.0) (3.3.1)\n",
            "Downloading tensorflow-2.12.0-cp311-cp311-manylinux_2_17_x86_64.manylinux2014_x86_64.whl (586.0 MB)\n",
            "\u001b[2K   \u001b[90m━━━━━━━━━━━━━━━━━━━━━━━━━━━━━━━━━━━━━━━━\u001b[0m \u001b[32m586.0/586.0 MB\u001b[0m \u001b[31m2.3 MB/s\u001b[0m eta \u001b[36m0:00:00\u001b[0m\n",
            "\u001b[?25hDownloading gast-0.4.0-py3-none-any.whl (9.8 kB)\n",
            "Downloading jax-0.4.30-py3-none-any.whl (2.0 MB)\n",
            "\u001b[2K   \u001b[90m━━━━━━━━━━━━━━━━━━━━━━━━━━━━━━━━━━━━━━━━\u001b[0m \u001b[32m2.0/2.0 MB\u001b[0m \u001b[31m72.5 MB/s\u001b[0m eta \u001b[36m0:00:00\u001b[0m\n",
            "\u001b[?25hDownloading numpy-1.23.5-cp311-cp311-manylinux_2_17_x86_64.manylinux2014_x86_64.whl (17.1 MB)\n",
            "\u001b[2K   \u001b[90m━━━━━━━━━━━━━━━━━━━━━━━━━━━━━━━━━━━━━━━━\u001b[0m \u001b[32m17.1/17.1 MB\u001b[0m \u001b[31m46.4 MB/s\u001b[0m eta \u001b[36m0:00:00\u001b[0m\n",
            "\u001b[?25hDownloading protobuf-4.25.8-cp37-abi3-manylinux2014_x86_64.whl (294 kB)\n",
            "\u001b[2K   \u001b[90m━━━━━━━━━━━━━━━━━━━━━━━━━━━━━━━━━━━━━━━━\u001b[0m \u001b[32m294.9/294.9 kB\u001b[0m \u001b[31m27.0 MB/s\u001b[0m eta \u001b[36m0:00:00\u001b[0m\n",
            "\u001b[?25hDownloading tensorboard-2.12.3-py3-none-any.whl (5.6 MB)\n",
            "\u001b[2K   \u001b[90m━━━━━━━━━━━━━━━━━━━━━━━━━━━━━━━━━━━━━━━━\u001b[0m \u001b[32m5.6/5.6 MB\u001b[0m \u001b[31m84.2 MB/s\u001b[0m eta \u001b[36m0:00:00\u001b[0m\n",
            "\u001b[?25hDownloading tensorflow_estimator-2.12.0-py2.py3-none-any.whl (440 kB)\n",
            "\u001b[2K   \u001b[90m━━━━━━━━━━━━━━━━━━━━━━━━━━━━━━━━━━━━━━━━\u001b[0m \u001b[32m440.7/440.7 kB\u001b[0m \u001b[31m35.0 MB/s\u001b[0m eta \u001b[36m0:00:00\u001b[0m\n",
            "\u001b[?25hDownloading wrapt-1.14.1-cp311-cp311-manylinux_2_5_x86_64.manylinux1_x86_64.manylinux_2_17_x86_64.manylinux2014_x86_64.whl (78 kB)\n",
            "\u001b[2K   \u001b[90m━━━━━━━━━━━━━━━━━━━━━━━━━━━━━━━━━━━━━━━━\u001b[0m \u001b[32m78.4/78.4 kB\u001b[0m \u001b[31m7.9 MB/s\u001b[0m eta \u001b[36m0:00:00\u001b[0m\n",
            "\u001b[?25hDownloading google_auth_oauthlib-1.0.0-py2.py3-none-any.whl (18 kB)\n",
            "Downloading jaxlib-0.4.30-cp311-cp311-manylinux2014_x86_64.whl (79.6 MB)\n",
            "\u001b[2K   \u001b[90m━━━━━━━━━━━━━━━━━━━━━━━━━━━━━━━━━━━━━━━━\u001b[0m \u001b[32m79.6/79.6 MB\u001b[0m \u001b[31m9.9 MB/s\u001b[0m eta \u001b[36m0:00:00\u001b[0m\n",
            "\u001b[?25hDownloading scipy-1.15.3-cp311-cp311-manylinux_2_17_x86_64.manylinux2014_x86_64.whl (37.7 MB)\n",
            "\u001b[2K   \u001b[90m━━━━━━━━━━━━━━━━━━━━━━━━━━━━━━━━━━━━━━━━\u001b[0m \u001b[32m37.7/37.7 MB\u001b[0m \u001b[31m19.3 MB/s\u001b[0m eta \u001b[36m0:00:00\u001b[0m\n",
            "\u001b[?25hInstalling collected packages: wrapt, tensorflow-estimator, protobuf, numpy, gast, scipy, jaxlib, google-auth-oauthlib, tensorboard, jax, tensorflow\n",
            "  Attempting uninstall: wrapt\n",
            "    Found existing installation: wrapt 1.17.2\n",
            "    Uninstalling wrapt-1.17.2:\n",
            "      Successfully uninstalled wrapt-1.17.2\n",
            "  Attempting uninstall: protobuf\n",
            "    Found existing installation: protobuf 5.29.5\n",
            "    Uninstalling protobuf-5.29.5:\n",
            "      Successfully uninstalled protobuf-5.29.5\n",
            "  Attempting uninstall: numpy\n",
            "    Found existing installation: numpy 2.0.2\n",
            "    Uninstalling numpy-2.0.2:\n",
            "      Successfully uninstalled numpy-2.0.2\n",
            "  Attempting uninstall: gast\n",
            "    Found existing installation: gast 0.6.0\n",
            "    Uninstalling gast-0.6.0:\n",
            "      Successfully uninstalled gast-0.6.0\n",
            "  Attempting uninstall: scipy\n",
            "    Found existing installation: scipy 1.16.1\n",
            "    Uninstalling scipy-1.16.1:\n",
            "      Successfully uninstalled scipy-1.16.1\n",
            "  Attempting uninstall: jaxlib\n",
            "    Found existing installation: jaxlib 0.5.3\n",
            "    Uninstalling jaxlib-0.5.3:\n",
            "      Successfully uninstalled jaxlib-0.5.3\n",
            "  Attempting uninstall: google-auth-oauthlib\n",
            "    Found existing installation: google-auth-oauthlib 1.2.2\n",
            "    Uninstalling google-auth-oauthlib-1.2.2:\n",
            "      Successfully uninstalled google-auth-oauthlib-1.2.2\n",
            "  Attempting uninstall: tensorboard\n",
            "    Found existing installation: tensorboard 2.19.0\n",
            "    Uninstalling tensorboard-2.19.0:\n",
            "      Successfully uninstalled tensorboard-2.19.0\n",
            "  Attempting uninstall: jax\n",
            "    Found existing installation: jax 0.5.3\n",
            "    Uninstalling jax-0.5.3:\n",
            "      Successfully uninstalled jax-0.5.3\n",
            "\u001b[31mERROR: pip's dependency resolver does not currently take into account all the packages that are installed. This behaviour is the source of the following dependency conflicts.\n",
            "pywavelets 1.9.0 requires numpy<3,>=1.25, but you have numpy 1.23.5 which is incompatible.\n",
            "xarray 2025.7.1 requires numpy>=1.26, but you have numpy 1.23.5 which is incompatible.\n",
            "albumentations 2.0.8 requires numpy>=1.24.4, but you have numpy 1.23.5 which is incompatible.\n",
            "xarray-einstats 0.9.1 requires numpy>=1.25, but you have numpy 1.23.5 which is incompatible.\n",
            "opencv-python 4.12.0.88 requires numpy<2.3.0,>=2; python_version >= \"3.9\", but you have numpy 1.23.5 which is incompatible.\n",
            "scikit-image 0.25.2 requires numpy>=1.24, but you have numpy 1.23.5 which is incompatible.\n",
            "tensorflow-text 2.19.0 requires tensorflow<2.20,>=2.19.0, but you have tensorflow 2.12.0 which is incompatible.\n",
            "geopandas 1.1.1 requires numpy>=1.24, but you have numpy 1.23.5 which is incompatible.\n",
            "tf-keras 2.19.0 requires tensorflow<2.20,>=2.19, but you have tensorflow 2.12.0 which is incompatible.\n",
            "ydf 0.13.0 requires protobuf<7.0.0,>=5.29.1, but you have protobuf 4.25.8 which is incompatible.\n",
            "contourpy 1.3.3 requires numpy>=1.25, but you have numpy 1.23.5 which is incompatible.\n",
            "flax 0.10.6 requires jax>=0.5.1, but you have jax 0.4.30 which is incompatible.\n",
            "chex 0.1.90 requires numpy>=1.24.1, but you have numpy 1.23.5 which is incompatible.\n",
            "blosc2 3.6.1 requires numpy>=1.26, but you have numpy 1.23.5 which is incompatible.\n",
            "opencv-contrib-python 4.12.0.88 requires numpy<2.3.0,>=2; python_version >= \"3.9\", but you have numpy 1.23.5 which is incompatible.\n",
            "pymc 5.25.1 requires numpy>=1.25.0, but you have numpy 1.23.5 which is incompatible.\n",
            "orbax-checkpoint 0.11.20 requires jax>=0.5.0, but you have jax 0.4.30 which is incompatible.\n",
            "imbalanced-learn 0.13.0 requires numpy<3,>=1.24.3, but you have numpy 1.23.5 which is incompatible.\n",
            "albucore 0.0.24 requires numpy>=1.24.4, but you have numpy 1.23.5 which is incompatible.\n",
            "treescope 0.1.9 requires numpy>=1.25.2, but you have numpy 1.23.5 which is incompatible.\n",
            "opencv-python-headless 4.12.0.88 requires numpy<2.3.0,>=2; python_version >= \"3.9\", but you have numpy 1.23.5 which is incompatible.\n",
            "thinc 8.3.6 requires numpy<3.0.0,>=2.0.0, but you have numpy 1.23.5 which is incompatible.\n",
            "arviz 0.22.0 requires numpy>=1.26.0, but you have numpy 1.23.5 which is incompatible.\n",
            "db-dtypes 1.4.3 requires numpy>=1.24.0, but you have numpy 1.23.5 which is incompatible.\n",
            "tensorflow-decision-forests 1.12.0 requires tensorflow==2.19.0, but you have tensorflow 2.12.0 which is incompatible.\n",
            "grpcio-status 1.71.2 requires protobuf<6.0dev,>=5.26.1, but you have protobuf 4.25.8 which is incompatible.\n",
            "keras-hub 0.21.1 requires keras>=3.5, but you have keras 2.12.0 which is incompatible.\n",
            "bigframes 2.13.0 requires numpy>=1.24.0, but you have numpy 1.23.5 which is incompatible.\u001b[0m\u001b[31m\n",
            "\u001b[0mSuccessfully installed gast-0.4.0 google-auth-oauthlib-1.0.0 jax-0.4.30 jaxlib-0.4.30 numpy-1.23.5 protobuf-4.25.8 scipy-1.15.3 tensorboard-2.12.3 tensorflow-2.12.0 tensorflow-estimator-2.12.0 wrapt-1.14.1\n"
          ]
        },
        {
          "output_type": "display_data",
          "data": {
            "application/vnd.colab-display-data+json": {
              "pip_warning": {
                "packages": [
                  "gast",
                  "google",
                  "jax",
                  "jaxlib",
                  "numpy",
                  "scipy",
                  "tensorflow",
                  "wrapt"
                ]
              },
              "id": "9f7f0a07a9c047a69e721e76df3f0cc3"
            }
          },
          "metadata": {}
        }
      ]
    },
    {
      "cell_type": "code",
      "source": [
        "malignant = df[df['target'] == 1]\n",
        "benign = df[df['target'] == 0]\n",
        "\n",
        "imgs = [np.array(get_img_pil(malignant.iloc[i]['isic_id']).resize(128, 128)) for i in range(len(malignant))]"
      ],
      "metadata": {
        "colab": {
          "base_uri": "https://localhost:8080/",
          "height": 400
        },
        "id": "tHd8_NIvEqdZ",
        "outputId": "5e246e8c-b54f-4c9b-8e30-5ac3815565bd"
      },
      "execution_count": null,
      "outputs": [
        {
          "output_type": "error",
          "ename": "ValueError",
          "evalue": "Unknown resampling filter (128). Use Image.Resampling.NEAREST (0), Image.Resampling.LANCZOS (1), Image.Resampling.BILINEAR (2), Image.Resampling.BICUBIC (3), Image.Resampling.BOX (4) or Image.Resampling.HAMMING (5)",
          "traceback": [
            "\u001b[0;31m---------------------------------------------------------------------------\u001b[0m",
            "\u001b[0;31mValueError\u001b[0m                                Traceback (most recent call last)",
            "\u001b[0;32m/tmp/ipython-input-3664874142.py\u001b[0m in \u001b[0;36m<cell line: 0>\u001b[0;34m()\u001b[0m\n\u001b[1;32m      2\u001b[0m \u001b[0mbenign\u001b[0m \u001b[0;34m=\u001b[0m \u001b[0mdf\u001b[0m\u001b[0;34m[\u001b[0m\u001b[0mdf\u001b[0m\u001b[0;34m[\u001b[0m\u001b[0;34m'target'\u001b[0m\u001b[0;34m]\u001b[0m \u001b[0;34m==\u001b[0m \u001b[0;36m0\u001b[0m\u001b[0;34m]\u001b[0m\u001b[0;34m\u001b[0m\u001b[0;34m\u001b[0m\u001b[0m\n\u001b[1;32m      3\u001b[0m \u001b[0;34m\u001b[0m\u001b[0m\n\u001b[0;32m----> 4\u001b[0;31m \u001b[0mimgs\u001b[0m \u001b[0;34m=\u001b[0m \u001b[0;34m[\u001b[0m\u001b[0mnp\u001b[0m\u001b[0;34m.\u001b[0m\u001b[0marray\u001b[0m\u001b[0;34m(\u001b[0m\u001b[0mget_img_pil\u001b[0m\u001b[0;34m(\u001b[0m\u001b[0mmalignant\u001b[0m\u001b[0;34m.\u001b[0m\u001b[0miloc\u001b[0m\u001b[0;34m[\u001b[0m\u001b[0mi\u001b[0m\u001b[0;34m]\u001b[0m\u001b[0;34m[\u001b[0m\u001b[0;34m'isic_id'\u001b[0m\u001b[0;34m]\u001b[0m\u001b[0;34m)\u001b[0m\u001b[0;34m.\u001b[0m\u001b[0mresize\u001b[0m\u001b[0;34m(\u001b[0m\u001b[0;36m128\u001b[0m\u001b[0;34m,\u001b[0m \u001b[0;36m128\u001b[0m\u001b[0;34m)\u001b[0m\u001b[0;34m)\u001b[0m \u001b[0;32mfor\u001b[0m \u001b[0mi\u001b[0m \u001b[0;32min\u001b[0m \u001b[0mrange\u001b[0m\u001b[0;34m(\u001b[0m\u001b[0mlen\u001b[0m\u001b[0;34m(\u001b[0m\u001b[0mmalignant\u001b[0m\u001b[0;34m)\u001b[0m\u001b[0;34m)\u001b[0m\u001b[0;34m]\u001b[0m\u001b[0;34m\u001b[0m\u001b[0;34m\u001b[0m\u001b[0m\n\u001b[0m",
            "\u001b[0;32m/tmp/ipython-input-3664874142.py\u001b[0m in \u001b[0;36m<listcomp>\u001b[0;34m(.0)\u001b[0m\n\u001b[1;32m      2\u001b[0m \u001b[0mbenign\u001b[0m \u001b[0;34m=\u001b[0m \u001b[0mdf\u001b[0m\u001b[0;34m[\u001b[0m\u001b[0mdf\u001b[0m\u001b[0;34m[\u001b[0m\u001b[0;34m'target'\u001b[0m\u001b[0;34m]\u001b[0m \u001b[0;34m==\u001b[0m \u001b[0;36m0\u001b[0m\u001b[0;34m]\u001b[0m\u001b[0;34m\u001b[0m\u001b[0;34m\u001b[0m\u001b[0m\n\u001b[1;32m      3\u001b[0m \u001b[0;34m\u001b[0m\u001b[0m\n\u001b[0;32m----> 4\u001b[0;31m \u001b[0mimgs\u001b[0m \u001b[0;34m=\u001b[0m \u001b[0;34m[\u001b[0m\u001b[0mnp\u001b[0m\u001b[0;34m.\u001b[0m\u001b[0marray\u001b[0m\u001b[0;34m(\u001b[0m\u001b[0mget_img_pil\u001b[0m\u001b[0;34m(\u001b[0m\u001b[0mmalignant\u001b[0m\u001b[0;34m.\u001b[0m\u001b[0miloc\u001b[0m\u001b[0;34m[\u001b[0m\u001b[0mi\u001b[0m\u001b[0;34m]\u001b[0m\u001b[0;34m[\u001b[0m\u001b[0;34m'isic_id'\u001b[0m\u001b[0;34m]\u001b[0m\u001b[0;34m)\u001b[0m\u001b[0;34m.\u001b[0m\u001b[0mresize\u001b[0m\u001b[0;34m(\u001b[0m\u001b[0;36m128\u001b[0m\u001b[0;34m,\u001b[0m \u001b[0;36m128\u001b[0m\u001b[0;34m)\u001b[0m\u001b[0;34m)\u001b[0m \u001b[0;32mfor\u001b[0m \u001b[0mi\u001b[0m \u001b[0;32min\u001b[0m \u001b[0mrange\u001b[0m\u001b[0;34m(\u001b[0m\u001b[0mlen\u001b[0m\u001b[0;34m(\u001b[0m\u001b[0mmalignant\u001b[0m\u001b[0;34m)\u001b[0m\u001b[0;34m)\u001b[0m\u001b[0;34m]\u001b[0m\u001b[0;34m\u001b[0m\u001b[0;34m\u001b[0m\u001b[0m\n\u001b[0m",
            "\u001b[0;32m/usr/local/lib/python3.11/dist-packages/PIL/Image.py\u001b[0m in \u001b[0;36mresize\u001b[0;34m(self, size, resample, box, reducing_gap)\u001b[0m\n\u001b[1;32m   2278\u001b[0m             ]\n\u001b[1;32m   2279\u001b[0m             \u001b[0mmsg\u001b[0m \u001b[0;34m+=\u001b[0m \u001b[0;34mf\" Use {', '.join(filters[:-1])} or {filters[-1]}\"\u001b[0m\u001b[0;34m\u001b[0m\u001b[0;34m\u001b[0m\u001b[0m\n\u001b[0;32m-> 2280\u001b[0;31m             \u001b[0;32mraise\u001b[0m \u001b[0mValueError\u001b[0m\u001b[0;34m(\u001b[0m\u001b[0mmsg\u001b[0m\u001b[0;34m)\u001b[0m\u001b[0;34m\u001b[0m\u001b[0;34m\u001b[0m\u001b[0m\n\u001b[0m\u001b[1;32m   2281\u001b[0m \u001b[0;34m\u001b[0m\u001b[0m\n\u001b[1;32m   2282\u001b[0m         \u001b[0;32mif\u001b[0m \u001b[0mreducing_gap\u001b[0m \u001b[0;32mis\u001b[0m \u001b[0;32mnot\u001b[0m \u001b[0;32mNone\u001b[0m \u001b[0;32mand\u001b[0m \u001b[0mreducing_gap\u001b[0m \u001b[0;34m<\u001b[0m \u001b[0;36m1.0\u001b[0m\u001b[0;34m:\u001b[0m\u001b[0;34m\u001b[0m\u001b[0;34m\u001b[0m\u001b[0m\n",
            "\u001b[0;31mValueError\u001b[0m: Unknown resampling filter (128). Use Image.Resampling.NEAREST (0), Image.Resampling.LANCZOS (1), Image.Resampling.BILINEAR (2), Image.Resampling.BICUBIC (3), Image.Resampling.BOX (4) or Image.Resampling.HAMMING (5)"
          ]
        }
      ]
    },
    {
      "cell_type": "code",
      "source": [
        "img = get_img_pil(malignant.iloc[4]['isic_id']).resize((128, 128))\n",
        "\n",
        "model(np.array(img).reshape(1, 128, 128, 3))"
      ],
      "metadata": {
        "id": "GB2Zli7OE9MN"
      },
      "execution_count": null,
      "outputs": []
    },
    {
      "cell_type": "code",
      "source": [
        "from PIL import Image\n",
        "\n",
        "imgs_malig = np.array([\n",
        "    np.array(get_img_pil(malignant.iloc[i]['isic_id']).resize((128, 128), Image.Resampling.BICUBIC)) for i in range(len(malignant))\n",
        "])\n",
        "\n",
        "imgs_benign = np.array([\n",
        "    np.array(get_img_pil(benign.iloc[i]['isic_id']).resize((128, 128), Image.Resampling.BICUBIC)) for i in np.random.random_integers(0, len(benign), 5*len(malignant))\n",
        "])"
      ],
      "metadata": {
        "colab": {
          "base_uri": "https://localhost:8080/"
        },
        "id": "tNAV2sd1Pp_X",
        "outputId": "95053ca0-0476-4711-c713-dca9ee39a3db"
      },
      "execution_count": null,
      "outputs": [
        {
          "output_type": "stream",
          "name": "stderr",
          "text": [
            "/tmp/ipython-input-263632761.py:8: DeprecationWarning: This function is deprecated. Please call randint(0, 400666 + 1) instead\n",
            "  np.array(get_img_pil(benign.iloc[i]['isic_id']).resize((128, 128), Image.Resampling.BICUBIC)) for i in np.random.random_integers(0, len(benign), 5*len(malignant))\n"
          ]
        }
      ]
    },
    {
      "cell_type": "code",
      "source": [
        "preds_malig = model.predict(imgs_malig)\n",
        "preds_benign = model.predict(imgs_benign)"
      ],
      "metadata": {
        "colab": {
          "base_uri": "https://localhost:8080/"
        },
        "id": "ACtuoJ3AQET2",
        "outputId": "be4c28eb-4497-4c90-f96b-e7813556923b"
      },
      "execution_count": null,
      "outputs": [
        {
          "output_type": "stream",
          "name": "stdout",
          "text": [
            "13/13 [==============================] - 3s 193ms/step\n",
            "62/62 [==============================] - 12s 194ms/step\n"
          ]
        }
      ]
    },
    {
      "cell_type": "code",
      "source": [
        "(preds_malig.reshape((-1)) > 0.9).sum() / len(malignant)"
      ],
      "metadata": {
        "colab": {
          "base_uri": "https://localhost:8080/"
        },
        "id": "UKydnPMoQXEN",
        "outputId": "969e3105-d453-4f7c-9d6f-24b1ec5969bd"
      },
      "execution_count": null,
      "outputs": [
        {
          "output_type": "execute_result",
          "data": {
            "text/plain": [
              "0.5597964376590331"
            ]
          },
          "metadata": {},
          "execution_count": 28
        }
      ]
    },
    {
      "cell_type": "code",
      "source": [
        "(preds_benign.reshape((-1)) < 0.9).sum() / len(imgs_benign)"
      ],
      "metadata": {
        "colab": {
          "base_uri": "https://localhost:8080/"
        },
        "id": "EgC7IU5GQ0dW",
        "outputId": "f6dedd71-d902-4cf5-b491-f4c21cabc910"
      },
      "execution_count": null,
      "outputs": [
        {
          "output_type": "execute_result",
          "data": {
            "text/plain": [
              "0.5348600508905852"
            ]
          },
          "metadata": {},
          "execution_count": 29
        }
      ]
    },
    {
      "cell_type": "markdown",
      "source": [
        "Solution Model"
      ],
      "metadata": {
        "id": "v61rEwHUl6E8"
      }
    },
    {
      "cell_type": "code",
      "source": [
        "class CancerDataset(Dataset):\n",
        "    def __init__(self, csv, mode, meta_features, transform=None, imgs_dir=\"Images\"):\n",
        "\n",
        "        self.csv = csv.reset_index(drop=True)\n",
        "        self.mode = mode\n",
        "        self.meta_features = meta_features\n",
        "\n",
        "        self.meta_df = self.csv[self.meta_features]\n",
        "        self.transform = transform\n",
        "        self.imgs_dir = imgs_dir\n",
        "\n",
        "\n",
        "    def __len__(self):\n",
        "        return self.csv.shape[0]\n",
        "\n",
        "    def __getitem__(self, index):\n",
        "\n",
        "        row = self.csv.iloc[index]\n",
        "        img_id = row.isic_id\n",
        "        image_path = os.path.join(self.imgs_dir, f\"{img_id}.jpg\")\n",
        "\n",
        "        image = cv2.imread(image_path)\n",
        "        image = cv2.cvtColor(image, cv2.COLOR_BGR2RGB)\n",
        "\n",
        "        if self.transform is not None:\n",
        "            res = self.transform(image=image)\n",
        "            image = res['image'].astype(np.float32)\n",
        "        else:\n",
        "            image = image.astype(np.float32)\n",
        "\n",
        "        image = image.transpose(2, 0, 1)\n",
        "\n",
        "        meta_data = self.meta_df.iloc[index].values.astype(np.float32)\n",
        "        data = (torch.tensor(image).float(), torch.tensor(meta_data).float())\n",
        "\n",
        "        if self.mode == 'test':\n",
        "            return data\n",
        "        else:\n",
        "            return data, torch.tensor(self.csv.iloc[index].target).long()"
      ],
      "metadata": {
        "id": "jeG96AGaXp9x"
      },
      "execution_count": null,
      "outputs": []
    },
    {
      "cell_type": "code",
      "source": [
        "def get_transforms(image_size):\n",
        "\n",
        "    transforms_train = albumentations.Compose([\n",
        "        albumentations.Transpose(p=0.5),\n",
        "        albumentations.VerticalFlip(p=0.5),\n",
        "        albumentations.HorizontalFlip(p=0.5),\n",
        "        albumentations.RandomBrightnessContrast(brightness_limit=0.2, contrast_limit=0.2, p=0.75),\n",
        "        albumentations.OneOf([\n",
        "            albumentations.MotionBlur(blur_limit=5),\n",
        "            albumentations.MedianBlur(blur_limit=5),\n",
        "            albumentations.GaussianBlur(blur_limit=5),\n",
        "            albumentations.GaussNoise(var_limit=(5.0, 30.0)),\n",
        "        ], p=0.7),\n",
        "\n",
        "        albumentations.OneOf([\n",
        "            albumentations.OpticalDistortion(distort_limit=1.0),\n",
        "            albumentations.GridDistortion(num_steps=5, distort_limit=1.),\n",
        "            albumentations.ElasticTransform(alpha=3),\n",
        "        ], p=0.7),\n",
        "\n",
        "        albumentations.CLAHE(clip_limit=4.0, p=0.7),\n",
        "        albumentations.HueSaturationValue(hue_shift_limit=10, sat_shift_limit=20, val_shift_limit=10, p=0.5),\n",
        "        albumentations.ShiftScaleRotate(shift_limit=0.1, scale_limit=0.1, rotate_limit=15, border_mode=0, p=0.85),\n",
        "        albumentations.Resize(image_size, image_size),\n",
        "        albumentations.Normalize()\n",
        "    ])\n",
        "\n",
        "    transforms_val = albumentations.Compose([\n",
        "        albumentations.Resize(image_size, image_size),\n",
        "        albumentations.Normalize()\n",
        "    ])\n",
        "\n",
        "    return transforms_train, transforms_val"
      ],
      "metadata": {
        "id": "K5QSyL8IYuAL"
      },
      "execution_count": null,
      "outputs": []
    },
    {
      "cell_type": "code",
      "source": [
        "!pip install geffnet git+https://github.com/ildoonet/pytorch-gradual-warmup-lr.git"
      ],
      "metadata": {
        "id": "X89wiOt43jEX",
        "colab": {
          "base_uri": "https://localhost:8080/"
        },
        "outputId": "c9f69dc2-9644-488d-bff4-b50cf2a78d11"
      },
      "execution_count": null,
      "outputs": [
        {
          "output_type": "stream",
          "name": "stdout",
          "text": [
            "Collecting git+https://github.com/ildoonet/pytorch-gradual-warmup-lr.git\n",
            "  Cloning https://github.com/ildoonet/pytorch-gradual-warmup-lr.git to /tmp/pip-req-build-rphipmnw\n",
            "  Running command git clone --filter=blob:none --quiet https://github.com/ildoonet/pytorch-gradual-warmup-lr.git /tmp/pip-req-build-rphipmnw\n",
            "  Resolved https://github.com/ildoonet/pytorch-gradual-warmup-lr.git to commit 7021d63a49106e22c79b40564a7d39930e7b0f53\n",
            "  Preparing metadata (setup.py) ... \u001b[?25l\u001b[?25hdone\n",
            "Collecting geffnet\n",
            "  Downloading geffnet-1.0.2-py3-none-any.whl.metadata (22 kB)\n",
            "Requirement already satisfied: torch>=1.4 in /usr/local/lib/python3.11/dist-packages (from geffnet) (2.6.0+cu124)\n",
            "Requirement already satisfied: torchvision in /usr/local/lib/python3.11/dist-packages (from geffnet) (0.21.0+cu124)\n",
            "Requirement already satisfied: filelock in /usr/local/lib/python3.11/dist-packages (from torch>=1.4->geffnet) (3.18.0)\n",
            "Requirement already satisfied: typing-extensions>=4.10.0 in /usr/local/lib/python3.11/dist-packages (from torch>=1.4->geffnet) (4.14.1)\n",
            "Requirement already satisfied: networkx in /usr/local/lib/python3.11/dist-packages (from torch>=1.4->geffnet) (3.5)\n",
            "Requirement already satisfied: jinja2 in /usr/local/lib/python3.11/dist-packages (from torch>=1.4->geffnet) (3.1.6)\n",
            "Requirement already satisfied: fsspec in /usr/local/lib/python3.11/dist-packages (from torch>=1.4->geffnet) (2025.3.0)\n",
            "Collecting nvidia-cuda-nvrtc-cu12==12.4.127 (from torch>=1.4->geffnet)\n",
            "  Downloading nvidia_cuda_nvrtc_cu12-12.4.127-py3-none-manylinux2014_x86_64.whl.metadata (1.5 kB)\n",
            "Collecting nvidia-cuda-runtime-cu12==12.4.127 (from torch>=1.4->geffnet)\n",
            "  Downloading nvidia_cuda_runtime_cu12-12.4.127-py3-none-manylinux2014_x86_64.whl.metadata (1.5 kB)\n",
            "Collecting nvidia-cuda-cupti-cu12==12.4.127 (from torch>=1.4->geffnet)\n",
            "  Downloading nvidia_cuda_cupti_cu12-12.4.127-py3-none-manylinux2014_x86_64.whl.metadata (1.6 kB)\n",
            "Collecting nvidia-cudnn-cu12==9.1.0.70 (from torch>=1.4->geffnet)\n",
            "  Downloading nvidia_cudnn_cu12-9.1.0.70-py3-none-manylinux2014_x86_64.whl.metadata (1.6 kB)\n",
            "Collecting nvidia-cublas-cu12==12.4.5.8 (from torch>=1.4->geffnet)\n",
            "  Downloading nvidia_cublas_cu12-12.4.5.8-py3-none-manylinux2014_x86_64.whl.metadata (1.5 kB)\n",
            "Collecting nvidia-cufft-cu12==11.2.1.3 (from torch>=1.4->geffnet)\n",
            "  Downloading nvidia_cufft_cu12-11.2.1.3-py3-none-manylinux2014_x86_64.whl.metadata (1.5 kB)\n",
            "Collecting nvidia-curand-cu12==10.3.5.147 (from torch>=1.4->geffnet)\n",
            "  Downloading nvidia_curand_cu12-10.3.5.147-py3-none-manylinux2014_x86_64.whl.metadata (1.5 kB)\n",
            "Collecting nvidia-cusolver-cu12==11.6.1.9 (from torch>=1.4->geffnet)\n",
            "  Downloading nvidia_cusolver_cu12-11.6.1.9-py3-none-manylinux2014_x86_64.whl.metadata (1.6 kB)\n",
            "Collecting nvidia-cusparse-cu12==12.3.1.170 (from torch>=1.4->geffnet)\n",
            "  Downloading nvidia_cusparse_cu12-12.3.1.170-py3-none-manylinux2014_x86_64.whl.metadata (1.6 kB)\n",
            "Requirement already satisfied: nvidia-cusparselt-cu12==0.6.2 in /usr/local/lib/python3.11/dist-packages (from torch>=1.4->geffnet) (0.6.2)\n",
            "Collecting nvidia-nccl-cu12==2.21.5 (from torch>=1.4->geffnet)\n",
            "  Downloading nvidia_nccl_cu12-2.21.5-py3-none-manylinux2014_x86_64.whl.metadata (1.8 kB)\n",
            "Requirement already satisfied: nvidia-nvtx-cu12==12.4.127 in /usr/local/lib/python3.11/dist-packages (from torch>=1.4->geffnet) (12.4.127)\n",
            "Collecting nvidia-nvjitlink-cu12==12.4.127 (from torch>=1.4->geffnet)\n",
            "  Downloading nvidia_nvjitlink_cu12-12.4.127-py3-none-manylinux2014_x86_64.whl.metadata (1.5 kB)\n",
            "Requirement already satisfied: triton==3.2.0 in /usr/local/lib/python3.11/dist-packages (from torch>=1.4->geffnet) (3.2.0)\n",
            "Requirement already satisfied: sympy==1.13.1 in /usr/local/lib/python3.11/dist-packages (from torch>=1.4->geffnet) (1.13.1)\n",
            "Requirement already satisfied: mpmath<1.4,>=1.1.0 in /usr/local/lib/python3.11/dist-packages (from sympy==1.13.1->torch>=1.4->geffnet) (1.3.0)\n",
            "Requirement already satisfied: numpy in /usr/local/lib/python3.11/dist-packages (from torchvision->geffnet) (2.0.2)\n",
            "Requirement already satisfied: pillow!=8.3.*,>=5.3.0 in /usr/local/lib/python3.11/dist-packages (from torchvision->geffnet) (11.3.0)\n",
            "Requirement already satisfied: MarkupSafe>=2.0 in /usr/local/lib/python3.11/dist-packages (from jinja2->torch>=1.4->geffnet) (3.0.2)\n",
            "Downloading geffnet-1.0.2-py3-none-any.whl (40 kB)\n",
            "\u001b[2K   \u001b[90m━━━━━━━━━━━━━━━━━━━━━━━━━━━━━━━━━━━━━━━━\u001b[0m \u001b[32m40.2/40.2 kB\u001b[0m \u001b[31m3.4 MB/s\u001b[0m eta \u001b[36m0:00:00\u001b[0m\n",
            "\u001b[?25hDownloading nvidia_cublas_cu12-12.4.5.8-py3-none-manylinux2014_x86_64.whl (363.4 MB)\n",
            "\u001b[2K   \u001b[90m━━━━━━━━━━━━━━━━━━━━━━━━━━━━━━━━━━━━━━━━\u001b[0m \u001b[32m363.4/363.4 MB\u001b[0m \u001b[31m1.6 MB/s\u001b[0m eta \u001b[36m0:00:00\u001b[0m\n",
            "\u001b[?25hDownloading nvidia_cuda_cupti_cu12-12.4.127-py3-none-manylinux2014_x86_64.whl (13.8 MB)\n",
            "\u001b[2K   \u001b[90m━━━━━━━━━━━━━━━━━━━━━━━━━━━━━━━━━━━━━━━━\u001b[0m \u001b[32m13.8/13.8 MB\u001b[0m \u001b[31m64.5 MB/s\u001b[0m eta \u001b[36m0:00:00\u001b[0m\n",
            "\u001b[?25hDownloading nvidia_cuda_nvrtc_cu12-12.4.127-py3-none-manylinux2014_x86_64.whl (24.6 MB)\n",
            "\u001b[2K   \u001b[90m━━━━━━━━━━━━━━━━━━━━━━━━━━━━━━━━━━━━━━━━\u001b[0m \u001b[32m24.6/24.6 MB\u001b[0m \u001b[31m35.8 MB/s\u001b[0m eta \u001b[36m0:00:00\u001b[0m\n",
            "\u001b[?25hDownloading nvidia_cuda_runtime_cu12-12.4.127-py3-none-manylinux2014_x86_64.whl (883 kB)\n",
            "\u001b[2K   \u001b[90m━━━━━━━━━━━━━━━━━━━━━━━━━━━━━━━━━━━━━━━━\u001b[0m \u001b[32m883.7/883.7 kB\u001b[0m \u001b[31m48.3 MB/s\u001b[0m eta \u001b[36m0:00:00\u001b[0m\n",
            "\u001b[?25hDownloading nvidia_cudnn_cu12-9.1.0.70-py3-none-manylinux2014_x86_64.whl (664.8 MB)\n",
            "\u001b[2K   \u001b[90m━━━━━━━━━━━━━━━━━━━━━━━━━━━━━━━━━━━━━━━━\u001b[0m \u001b[32m664.8/664.8 MB\u001b[0m \u001b[31m1.4 MB/s\u001b[0m eta \u001b[36m0:00:00\u001b[0m\n",
            "\u001b[?25hDownloading nvidia_cufft_cu12-11.2.1.3-py3-none-manylinux2014_x86_64.whl (211.5 MB)\n",
            "\u001b[2K   \u001b[90m━━━━━━━━━━━━━━━━━━━━━━━━━━━━━━━━━━━━━━━━\u001b[0m \u001b[32m211.5/211.5 MB\u001b[0m \u001b[31m6.1 MB/s\u001b[0m eta \u001b[36m0:00:00\u001b[0m\n",
            "\u001b[?25hDownloading nvidia_curand_cu12-10.3.5.147-py3-none-manylinux2014_x86_64.whl (56.3 MB)\n",
            "\u001b[2K   \u001b[90m━━━━━━━━━━━━━━━━━━━━━━━━━━━━━━━━━━━━━━━━\u001b[0m \u001b[32m56.3/56.3 MB\u001b[0m \u001b[31m13.9 MB/s\u001b[0m eta \u001b[36m0:00:00\u001b[0m\n",
            "\u001b[?25hDownloading nvidia_cusolver_cu12-11.6.1.9-py3-none-manylinux2014_x86_64.whl (127.9 MB)\n",
            "\u001b[2K   \u001b[90m━━━━━━━━━━━━━━━━━━━━━━━━━━━━━━━━━━━━━━━━\u001b[0m \u001b[32m127.9/127.9 MB\u001b[0m \u001b[31m8.6 MB/s\u001b[0m eta \u001b[36m0:00:00\u001b[0m\n",
            "\u001b[?25hDownloading nvidia_cusparse_cu12-12.3.1.170-py3-none-manylinux2014_x86_64.whl (207.5 MB)\n",
            "\u001b[2K   \u001b[90m━━━━━━━━━━━━━━━━━━━━━━━━━━━━━━━━━━━━━━━━\u001b[0m \u001b[32m207.5/207.5 MB\u001b[0m \u001b[31m6.7 MB/s\u001b[0m eta \u001b[36m0:00:00\u001b[0m\n",
            "\u001b[?25hDownloading nvidia_nccl_cu12-2.21.5-py3-none-manylinux2014_x86_64.whl (188.7 MB)\n",
            "\u001b[2K   \u001b[90m━━━━━━━━━━━━━━━━━━━━━━━━━━━━━━━━━━━━━━━━\u001b[0m \u001b[32m188.7/188.7 MB\u001b[0m \u001b[31m5.9 MB/s\u001b[0m eta \u001b[36m0:00:00\u001b[0m\n",
            "\u001b[?25hDownloading nvidia_nvjitlink_cu12-12.4.127-py3-none-manylinux2014_x86_64.whl (21.1 MB)\n",
            "\u001b[2K   \u001b[90m━━━━━━━━━━━━━━━━━━━━━━━━━━━━━━━━━━━━━━━━\u001b[0m \u001b[32m21.1/21.1 MB\u001b[0m \u001b[31m78.6 MB/s\u001b[0m eta \u001b[36m0:00:00\u001b[0m\n",
            "\u001b[?25hBuilding wheels for collected packages: warmup_scheduler\n",
            "  Building wheel for warmup_scheduler (setup.py) ... \u001b[?25l\u001b[?25hdone\n",
            "  Created wheel for warmup_scheduler: filename=warmup_scheduler-0.3.2-py3-none-any.whl size=3879 sha256=2a90455bc2952c401ccef2f365ef7bd0fa68aeeeaf9e95c662e25fc25cd15e5a\n",
            "  Stored in directory: /tmp/pip-ephem-wheel-cache-k09svm5f/wheels/f2/c3/8b/3af492c8fde7169fd46356ddd853f238268449471ef2b5aa53\n",
            "Successfully built warmup_scheduler\n",
            "Installing collected packages: warmup_scheduler, nvidia-nvjitlink-cu12, nvidia-nccl-cu12, nvidia-curand-cu12, nvidia-cufft-cu12, nvidia-cuda-runtime-cu12, nvidia-cuda-nvrtc-cu12, nvidia-cuda-cupti-cu12, nvidia-cublas-cu12, nvidia-cusparse-cu12, nvidia-cudnn-cu12, nvidia-cusolver-cu12, geffnet\n",
            "  Attempting uninstall: nvidia-nvjitlink-cu12\n",
            "    Found existing installation: nvidia-nvjitlink-cu12 12.5.82\n",
            "    Uninstalling nvidia-nvjitlink-cu12-12.5.82:\n",
            "      Successfully uninstalled nvidia-nvjitlink-cu12-12.5.82\n",
            "  Attempting uninstall: nvidia-nccl-cu12\n",
            "    Found existing installation: nvidia-nccl-cu12 2.23.4\n",
            "    Uninstalling nvidia-nccl-cu12-2.23.4:\n",
            "      Successfully uninstalled nvidia-nccl-cu12-2.23.4\n",
            "  Attempting uninstall: nvidia-curand-cu12\n",
            "    Found existing installation: nvidia-curand-cu12 10.3.6.82\n",
            "    Uninstalling nvidia-curand-cu12-10.3.6.82:\n",
            "      Successfully uninstalled nvidia-curand-cu12-10.3.6.82\n",
            "  Attempting uninstall: nvidia-cufft-cu12\n",
            "    Found existing installation: nvidia-cufft-cu12 11.2.3.61\n",
            "    Uninstalling nvidia-cufft-cu12-11.2.3.61:\n",
            "      Successfully uninstalled nvidia-cufft-cu12-11.2.3.61\n",
            "  Attempting uninstall: nvidia-cuda-runtime-cu12\n",
            "    Found existing installation: nvidia-cuda-runtime-cu12 12.5.82\n",
            "    Uninstalling nvidia-cuda-runtime-cu12-12.5.82:\n",
            "      Successfully uninstalled nvidia-cuda-runtime-cu12-12.5.82\n",
            "  Attempting uninstall: nvidia-cuda-nvrtc-cu12\n",
            "    Found existing installation: nvidia-cuda-nvrtc-cu12 12.5.82\n",
            "    Uninstalling nvidia-cuda-nvrtc-cu12-12.5.82:\n",
            "      Successfully uninstalled nvidia-cuda-nvrtc-cu12-12.5.82\n",
            "  Attempting uninstall: nvidia-cuda-cupti-cu12\n",
            "    Found existing installation: nvidia-cuda-cupti-cu12 12.5.82\n",
            "    Uninstalling nvidia-cuda-cupti-cu12-12.5.82:\n",
            "      Successfully uninstalled nvidia-cuda-cupti-cu12-12.5.82\n",
            "  Attempting uninstall: nvidia-cublas-cu12\n",
            "    Found existing installation: nvidia-cublas-cu12 12.5.3.2\n",
            "    Uninstalling nvidia-cublas-cu12-12.5.3.2:\n",
            "      Successfully uninstalled nvidia-cublas-cu12-12.5.3.2\n",
            "  Attempting uninstall: nvidia-cusparse-cu12\n",
            "    Found existing installation: nvidia-cusparse-cu12 12.5.1.3\n",
            "    Uninstalling nvidia-cusparse-cu12-12.5.1.3:\n",
            "      Successfully uninstalled nvidia-cusparse-cu12-12.5.1.3\n",
            "  Attempting uninstall: nvidia-cudnn-cu12\n",
            "    Found existing installation: nvidia-cudnn-cu12 9.3.0.75\n",
            "    Uninstalling nvidia-cudnn-cu12-9.3.0.75:\n",
            "      Successfully uninstalled nvidia-cudnn-cu12-9.3.0.75\n",
            "  Attempting uninstall: nvidia-cusolver-cu12\n",
            "    Found existing installation: nvidia-cusolver-cu12 11.6.3.83\n",
            "    Uninstalling nvidia-cusolver-cu12-11.6.3.83:\n",
            "      Successfully uninstalled nvidia-cusolver-cu12-11.6.3.83\n",
            "Successfully installed geffnet-1.0.2 nvidia-cublas-cu12-12.4.5.8 nvidia-cuda-cupti-cu12-12.4.127 nvidia-cuda-nvrtc-cu12-12.4.127 nvidia-cuda-runtime-cu12-12.4.127 nvidia-cudnn-cu12-9.1.0.70 nvidia-cufft-cu12-11.2.1.3 nvidia-curand-cu12-10.3.5.147 nvidia-cusolver-cu12-11.6.1.9 nvidia-cusparse-cu12-12.3.1.170 nvidia-nccl-cu12-2.21.5 nvidia-nvjitlink-cu12-12.4.127 warmup_scheduler-0.3.2\n"
          ]
        }
      ]
    },
    {
      "cell_type": "code",
      "source": [
        "import torch\n",
        "import torch.nn as nn\n",
        "import geffnet\n",
        "\n",
        "\n",
        "sigmoid = nn.Sigmoid()\n",
        "\n",
        "\n",
        "class Swish(torch.autograd.Function):\n",
        "    @staticmethod\n",
        "    def forward(ctx, i):\n",
        "        result = i * sigmoid(i)\n",
        "        ctx.save_for_backward(i)\n",
        "        return result\n",
        "    @staticmethod\n",
        "    def backward(ctx, grad_output):\n",
        "        i = ctx.saved_tensors[0]\n",
        "        sigmoid_i = sigmoid(i)\n",
        "        return grad_output * (sigmoid_i * (1 + i * (1 - sigmoid_i)))\n",
        "\n",
        "\n",
        "class Swish_Module(nn.Module):\n",
        "    def forward(self, x):\n",
        "        return Swish.apply(x)\n",
        "\n",
        "\n",
        "class Effnet(nn.Module):\n",
        "    def __init__(self, enet_type, out_dim, n_meta_features=0, n_meta_dim=[512, 128], pretrained=False):\n",
        "        nn.Module.__init__(self)\n",
        "        self.n_meta_features = n_meta_features\n",
        "        self.enet = geffnet.create_model(enet_type, pretrained=pretrained)\n",
        "        self.dropouts = nn.ModuleList([\n",
        "            nn.Dropout(0.5) for _ in range(5)\n",
        "        ])\n",
        "        in_ch = self.enet.classifier.in_features\n",
        "        if n_meta_features > 0:\n",
        "            self.meta = nn.Sequential(\n",
        "                nn.Linear(n_meta_features, n_meta_dim[0]),\n",
        "                nn.BatchNorm1d(n_meta_dim[0]),\n",
        "                Swish_Module(),\n",
        "                nn.Dropout(p=0.3),\n",
        "                nn.Linear(n_meta_dim[0], n_meta_dim[1]),\n",
        "                nn.BatchNorm1d(n_meta_dim[1]),\n",
        "                Swish_Module(),\n",
        "            )\n",
        "            in_ch += n_meta_dim[1]\n",
        "        self.myfc = nn.Linear(in_ch, out_dim)\n",
        "        self.enet.classifier = nn.Identity()\n",
        "\n",
        "    def extract(self, x):\n",
        "        x = self.enet(x)\n",
        "        return x\n",
        "\n",
        "    def forward(self, x, x_meta=None):\n",
        "        x = self.extract(x).squeeze(-1).squeeze(-1)\n",
        "        if self.n_meta_features > 0:\n",
        "            x_meta = self.meta(x_meta)\n",
        "            x = torch.cat((x, x_meta), dim=1)\n",
        "        for i, dropout in enumerate(self.dropouts):\n",
        "            if i == 0:\n",
        "                out = self.myfc(dropout(x))\n",
        "            else:\n",
        "                out += self.myfc(dropout(x))\n",
        "        out /= len(self.dropouts)\n",
        "        return out"
      ],
      "metadata": {
        "id": "BHH_UvrZ0Dtt"
      },
      "execution_count": null,
      "outputs": []
    },
    {
      "cell_type": "code",
      "source": [
        "from warmup_scheduler import GradualWarmupScheduler\n",
        "\n",
        "class GradualWarmupSchedulerV2(GradualWarmupScheduler):\n",
        "    def __init__(self, optimizer, multiplier, total_epoch, after_scheduler=None):\n",
        "        super(GradualWarmupSchedulerV2, self).__init__(optimizer, multiplier, total_epoch, after_scheduler)\n",
        "    def get_lr(self):\n",
        "        if self.last_epoch > self.total_epoch:\n",
        "            if self.after_scheduler:\n",
        "                if not self.finished:\n",
        "                    self.after_scheduler.base_lrs = [base_lr * self.multiplier for base_lr in self.base_lrs]\n",
        "                    self.finished = True\n",
        "                return self.after_scheduler.get_lr()\n",
        "            return [base_lr * self.multiplier for base_lr in self.base_lrs]\n",
        "        if self.multiplier == 1.0:\n",
        "            return [base_lr * (float(self.last_epoch) / self.total_epoch) for base_lr in self.base_lrs]\n",
        "        else:\n",
        "            return [base_lr * ((self.multiplier - 1.) * self.last_epoch / self.total_epoch + 1.) for base_lr in self.base_lrs]"
      ],
      "metadata": {
        "id": "HvJoEZc35MxN"
      },
      "execution_count": null,
      "outputs": []
    },
    {
      "cell_type": "code",
      "source": [
        "import os\n",
        "import time\n",
        "import random\n",
        "import argparse\n",
        "import numpy as np\n",
        "import pandas as pd\n",
        "from tqdm import tqdm\n",
        "from sklearn.metrics import roc_auc_score\n",
        "from sklearn.model_selection import StratifiedKFold\n",
        "import torch\n",
        "from torch.utils.data import DataLoader, Dataset\n",
        "import torch.nn as nn\n",
        "import torch.nn.functional as F\n",
        "import torch.optim as optim\n",
        "from torch.optim import lr_scheduler\n",
        "from torch.utils.data.sampler import RandomSampler, SequentialSampler\n",
        "from torch.optim.lr_scheduler import CosineAnnealingLR\n",
        "\n",
        "\n",
        "def set_seed(seed=0):\n",
        "    random.seed(seed)\n",
        "    np.random.seed(seed)\n",
        "    torch.manual_seed(seed)\n",
        "    torch.cuda.manual_seed(seed)\n",
        "    torch.cuda.manual_seed_all(seed)\n",
        "    torch.backends.cudnn.deterministic = True\n",
        "\n",
        "\n",
        "def train_epoch(model, loader, optimizer):\n",
        "\n",
        "    model.train()\n",
        "    train_loss = []\n",
        "    bar = tqdm(loader)\n",
        "    for (data, target) in bar:\n",
        "\n",
        "        optimizer.zero_grad()\n",
        "\n",
        "        if args.use_meta:\n",
        "            data, meta = data\n",
        "            data, meta, target = data.to(device), meta.to(device), target.to(device)\n",
        "            logits = model(data, meta)\n",
        "        else:\n",
        "            data, target = data.to(device), target.to(device)\n",
        "            logits = model(data)\n",
        "\n",
        "        loss = criterion(logits, target)\n",
        "\n",
        "        loss.backward()\n",
        "\n",
        "        torch.nn.utils.clip_grad_norm_(model.parameters(), 0.5)\n",
        "        optimizer.step()\n",
        "\n",
        "        loss_np = loss.detach().cpu().numpy()\n",
        "        train_loss.append(loss_np)\n",
        "        smooth_loss = sum(train_loss[-100:]) / min(len(train_loss), 100)\n",
        "        bar.set_description('loss: %.5f, smth: %.5f' % (loss_np, smooth_loss))\n",
        "\n",
        "    train_loss = np.mean(train_loss)\n",
        "    return train_loss\n",
        "\n",
        "\n",
        "def get_trans(img, I):\n",
        "\n",
        "    if I >= 4:\n",
        "        img = img.transpose(2, 3)\n",
        "    if I % 4 == 0:\n",
        "        return img\n",
        "    elif I % 4 == 1:\n",
        "        return img.flip(2)\n",
        "    elif I % 4 == 2:\n",
        "        return img.flip(3)\n",
        "    elif I % 4 == 3:\n",
        "        return img.flip(2).flip(3)\n",
        "\n",
        "\n",
        "def val_epoch(model, loader, mel_idx, is_ext=None, n_test=1, get_output=False):\n",
        "\n",
        "    model.eval()\n",
        "    val_loss = []\n",
        "    LOGITS = []\n",
        "    PROBS = []\n",
        "    TARGETS = []\n",
        "    with torch.no_grad():\n",
        "        for (data, target) in tqdm(loader):\n",
        "\n",
        "            if args.use_meta:\n",
        "                data, meta = data\n",
        "                data, meta, target = data.to(device), meta.to(device), target.to(device)\n",
        "                logits = torch.zeros((data.shape[0], args.out_dim)).to(device)\n",
        "                probs = torch.zeros((data.shape[0], args.out_dim)).to(device)\n",
        "                for I in range(n_test):\n",
        "                    l = model(get_trans(data, I), meta)\n",
        "                    logits += l\n",
        "                    probs += l.softmax(1)\n",
        "            else:\n",
        "                data, target = data.to(device), target.to(device)\n",
        "                logits = torch.zeros((data.shape[0], args.out_dim)).to(device)\n",
        "                probs = torch.zeros((data.shape[0], args.out_dim)).to(device)\n",
        "                for I in range(n_test):\n",
        "                    l = model(get_trans(data, I))\n",
        "                    logits += l\n",
        "                    probs += l.softmax(1)\n",
        "            logits /= n_test\n",
        "            probs /= n_test\n",
        "\n",
        "            LOGITS.append(logits.detach().cpu())\n",
        "            PROBS.append(probs.detach().cpu())\n",
        "            TARGETS.append(target.detach().cpu())\n",
        "\n",
        "            loss = criterion(logits, target)\n",
        "            val_loss.append(loss.detach().cpu().numpy())\n",
        "\n",
        "    val_loss = np.mean(val_loss)\n",
        "    LOGITS = torch.cat(LOGITS).numpy()\n",
        "    PROBS = torch.cat(PROBS).numpy()\n",
        "    TARGETS = torch.cat(TARGETS).numpy()\n",
        "\n",
        "    if get_output:\n",
        "        return LOGITS, PROBS, TARGETS\n",
        "    else:\n",
        "      acc = (probs.argmax(1) == targets).mean() * 100.\n",
        "      auc = roc_auc_score((targets == mel_idx).astype(float), probs[:, mel_idx])\n",
        "\n",
        "      return val_loss, acc, auc\n",
        "\n",
        "\n",
        "\n",
        "def run(fold, df, meta_features, n_meta_features, transforms_train, transforms_val, mel_idx, model=None, optim=None, scheduler=None):\n",
        "    df_train, df_valid = train_test_split(df, test_size=0.2, random_state=42)\n",
        "\n",
        "    dataset_train = CancerDataset(df_train, 'train', meta_features, transform=transforms_train)\n",
        "    dataset_valid = CancerDataset(df_valid, 'valid', meta_features, transform=transforms_val)\n",
        "\n",
        "    class_counts = df_train['target'].value_counts().sort_index()\n",
        "    class_weights_dict = (1. / class_counts).to_dict()\n",
        "    samples_weight = df_train['target'].map(class_weights_dict)\n",
        "    sampler = WeightedRandomSampler(list(samples_weight.values), num_samples=len(samples_weight), replacement=True)\n",
        "    train_loader = torch.utils.data.DataLoader(dataset_train, batch_size=args.batch_size, sampler=sampler, num_workers=args.num_workers)\n",
        "    print(\"Has Imbalance!\")\n",
        "\n",
        "\n",
        "    valid_loader = torch.utils.data.DataLoader(dataset_valid, batch_size=args.batch_size, num_workers=args.num_workers)\n",
        "\n",
        "    if isinstance(args.n_meta_dim, str):\n",
        "        n_meta_dim_list = [int(nd) for nd in args.n_meta_dim.split(',')]\n",
        "    else:\n",
        "        n_meta_dim_list = args.n_meta_dim\n",
        "\n",
        "    if model is None:\n",
        "        model = ModelClass(\n",
        "            args.enet_type,\n",
        "            n_meta_features=n_meta_features,\n",
        "            n_meta_dim=n_meta_dim_list,\n",
        "            out_dim=args.out_dim,\n",
        "            pretrained=True\n",
        "        )\n",
        "    else:\n",
        "      print(\"Model found, using pretrained one\")\n",
        "    model = model.to(device)\n",
        "\n",
        "    auc_max = 0.\n",
        "    model_file  = os.path.join(args.model_dir, f'{args.kernel_type}_best_fold{fold}.pth')\n",
        "    model_file3 = os.path.join(args.model_dir, f'{args.kernel_type}_final_fold{fold}.pth')\n",
        "    scheduler_file = os.path.join(args.model_dir, f'{args.kernel_type}_scheduler_final_fold{fold}.pth')\n",
        "    optim_file = os.path.join(args.model_dir, f'{args.kernel_type}_optim_final_fold{fold}.pth')\n",
        "\n",
        "    optimizer = optim\n",
        "    if optimizer is None: optimizer = optim.Adam(model.parameters(), lr=args.init_lr)\n",
        "    if DP:\n",
        "        model = nn.DataParallel(model)\n",
        "    scheduler_cosine = torch.optim.lr_scheduler.CosineAnnealingWarmRestarts(optimizer, args.n_epochs - 1)\n",
        "    scheduler_warmup = scheduler\n",
        "    if scheduler_warmup is not None: scheduler_warmup = GradualWarmupSchedulerV2(optimizer, multiplier=10, total_epoch=1, after_scheduler=scheduler_cosine)\n",
        "\n",
        "    print(len(dataset_train), len(dataset_valid))\n",
        "\n",
        "    for epoch in range(1, args.n_epochs + 1):\n",
        "        print(time.ctime(), f'Fold {fold}, Epoch {epoch}')\n",
        "\n",
        "        train_loss = train_epoch(model, train_loader, optimizer)\n",
        "        val_loss, acc, auc = val_epoch(model, valid_loader, mel_idx, is_ext=df_valid['is_ext'].values if 'is_ext' in df_valid.columns else None)\n",
        "\n",
        "\n",
        "        content = time.ctime() + ' ' + f'Fold {fold}, Epoch {epoch}, lr: {optimizer.param_groups[0][\"lr\"]:.7f}, train loss: {train_loss:.5f}, valid loss: {(val_loss):.5f}, acc: {(acc):.4f}, auc: {(auc):.6f}.'\n",
        "        print(content)\n",
        "\n",
        "        scheduler_warmup.step()\n",
        "        if epoch==2: scheduler_warmup.step()\n",
        "\n",
        "        if auc > auc_max:\n",
        "            print('Saving model ...'.format(auc_max, auc))\n",
        "            torch.save(model.state_dict(), model_file)\n",
        "            auc_max = auc\n",
        "\n",
        "        torch.save(optimizer.state_dict(), optim_file)\n",
        "        torch.save(scheduler_warmup.state_dict(), scheduler_file)\n",
        "\n",
        "    torch.save(model.state_dict(), model_file3)\n",
        "\n",
        "\n",
        "def main():\n",
        "\n",
        "    df, meta_features, n_meta_features, mel_idx = get_df(\n",
        "        args.kernel_type,\n",
        "        args.out_dim,\n",
        "        args.data_dir,\n",
        "        args.data_folder,\n",
        "        args.use_meta\n",
        "    )\n",
        "\n",
        "    transforms_train, transforms_val = get_transforms(args.image_size)\n",
        "\n",
        "    folds = [int(i) for i in args.fold.split(',')]\n",
        "    for fold in folds:\n",
        "        run(fold, df, meta_features, n_meta_features, transforms_train, transforms_val, mel_idx)"
      ],
      "metadata": {
        "id": "_ZpbPynH5F_X"
      },
      "execution_count": null,
      "outputs": []
    },
    {
      "cell_type": "code",
      "source": [
        "args = argparse.Namespace()\n",
        "args.model_dir = \"Models\"\n",
        "args.log_dir = \"Logs\"\n",
        "args.CUDA_VISIBLE_DEVICES = \"0\"\n",
        "args.enet_type = 'efficientnet_b3'\n",
        "args.kernel_type = 'efficientnet'\n",
        "args.n_meta_dim = [512, 128]\n",
        "args.out_dim = 2\n",
        "args.data_dir = '/content'\n",
        "args.data_folder = 'Download'\n",
        "args.use_meta = True\n",
        "args.batch_size = 32\n",
        "args.num_workers = 2\n",
        "args.image_size = 128\n",
        "args.fold = 0\n",
        "args.n_epochs = 5\n",
        "args.init_lr = 1e-4\n",
        "args.DEBUG = False\n",
        "\n",
        "os.makedirs(args.model_dir, exist_ok=True)\n",
        "os.makedirs(args.log_dir, exist_ok=True)\n",
        "os.environ['CUDA_VISIBLE_DEVICES'] = args.CUDA_VISIBLE_DEVICES\n",
        "DP = len(os.environ['CUDA_VISIBLE_DEVICES']) > 1\n",
        "\n",
        "set_seed()\n",
        "\n",
        "device = torch.device('cuda')\n",
        "criterion = nn.CrossEntropyLoss()"
      ],
      "metadata": {
        "id": "nlaIGuhw5r4i"
      },
      "execution_count": null,
      "outputs": []
    },
    {
      "cell_type": "code",
      "metadata": {
        "id": "709a28b5"
      },
      "source": [
        "from sklearn.model_selection import StratifiedKFold\n",
        "\n",
        "def get_df(kernel_type, out_dim, data_dir, data_folder, use_meta):\n",
        "    df = pd.read_csv(os.path.join(data_dir, data_folder, 'subject_data.csv'), low_memory=False)\n",
        "    df = df[df['image_type'] == 'TBP tile: close-up']\n",
        "\n",
        "    if use_meta:\n",
        "        meta_features = ['age_approx', 'sex', 'clin_size_long_diam_mm',\n",
        "       'tbp_lv_A', 'tbp_lv_Aext', 'tbp_lv_B', 'tbp_lv_Bext',\n",
        "       'tbp_lv_C', 'tbp_lv_Cext', 'tbp_lv_H', 'tbp_lv_Hext', 'tbp_lv_L',\n",
        "       'tbp_lv_Lext', 'tbp_lv_areaMM2', 'tbp_lv_area_perim_ratio',\n",
        "       'tbp_lv_color_std_mean', 'tbp_lv_deltaA', 'tbp_lv_deltaB',\n",
        "       'tbp_lv_deltaL', 'tbp_lv_deltaLB', 'tbp_lv_deltaLBnorm',\n",
        "       'tbp_lv_eccentricity', 'tbp_lv_location', 'tbp_lv_minorAxisMM', 'tbp_lv_norm_border',\n",
        "       'tbp_lv_norm_color', 'tbp_lv_perimeterMM',\n",
        "       'tbp_lv_radial_color_std_max', 'tbp_lv_stdL', 'tbp_lv_stdLExt',\n",
        "       'tbp_lv_symm_2axis', 'tbp_lv_symm_2axis_angle']\n",
        "\n",
        "        if 'age_approx' in meta_features:\n",
        "            df['age_approx'] = df['age_approx'].fillna(df['age_approx'].mean())\n",
        "\n",
        "        if 'sex' in meta_features:\n",
        "            df['sex'] = df['sex'].fillna(df['sex'].mode()[0])\n",
        "\n",
        "        if 'sex' in meta_features:\n",
        "            df = pd.get_dummies(df, columns=['sex'], dummy_na=False)\n",
        "            meta_features.remove('sex')\n",
        "            meta_features.extend([col for col in df.columns if 'sex_' in col])\n",
        "\n",
        "        if 'tbp_lv_location' in meta_features:\n",
        "             df = pd.get_dummies(df, columns=['tbp_lv_location'], dummy_na=False)\n",
        "             meta_features.remove('tbp_lv_location')\n",
        "             meta_features.extend([col for col in df.columns if 'tbp_lv_location_' in col and col != 'tbp_lv_location_simple'])\n",
        "\n",
        "        for col in meta_features:\n",
        "            if col in df.columns:\n",
        "                df[col] = pd.to_numeric(df[col], errors='coerce')\n",
        "                if df[col].isnull().any():\n",
        "                    if df[col].dtype == 'float64':\n",
        "                         df[col] = df[col].fillna(df[col].mean())\n",
        "                    else:\n",
        "                         df[col] = df[col].fillna(df[col].mode()[0] if not df[col].mode().empty else 0)\n",
        "\n",
        "\n",
        "        n_meta_features = len([col for col in df.columns if col in meta_features])\n",
        "\n",
        "    else:\n",
        "        meta_features = None\n",
        "        n_meta_features = 0\n",
        "\n",
        "    skf = StratifiedKFold(n_splits=5, shuffle=True, random_state=42)\n",
        "    for fold, (train_index, val_index) in enumerate(skf.split(df, df['target'])):\n",
        "        df.loc[val_index, 'fold'] = fold\n",
        "\n",
        "    mel_idx = sorted(df['target'].unique()).index(1)\n",
        "\n",
        "\n",
        "    return df, meta_features, n_meta_features, mel_idx"
      ],
      "execution_count": null,
      "outputs": []
    },
    {
      "cell_type": "code",
      "metadata": {
        "colab": {
          "base_uri": "https://localhost:8080/"
        },
        "id": "2502644f",
        "outputId": "62acab24-a808-4508-e9c1-dbfd6c986f3f"
      },
      "source": [
        "from sklearn.utils.class_weight import compute_class_weight\n",
        "\n",
        "args.kernel_type = 'efficientnet'\n",
        "args.out_dim = 2\n",
        "args.data_dir = '/content'\n",
        "args.data_folder = 'Download'\n",
        "args.use_meta = True\n",
        "args.batch_size = 1024\n",
        "args.num_workers = 2\n",
        "args.image_size = 64\n",
        "\n",
        "df, meta_features, n_meta_features, mel_idx = get_df(\n",
        "    args.kernel_type,\n",
        "    args.out_dim,\n",
        "    args.data_dir,\n",
        "    args.data_folder,\n",
        "    args.use_meta\n",
        ")\n",
        "\n",
        "fold = 0\n",
        "\n",
        "transforms_train, transforms_val = get_transforms(args.image_size)\n",
        "\n",
        "df_train = df[df['fold'] != fold]\n",
        "df_valid = df[df['fold'] == fold]\n",
        "\n",
        "dataset_train = CancerDataset(df_train, 'train', meta_features, transform=transforms_train)\n",
        "dataset_valid = CancerDataset(df_valid, 'valid', meta_features, transform=transforms_val)\n",
        "\n",
        "class_weights = compute_class_weight('balanced',\n",
        "                                   classes=np.unique(df['target']),\n",
        "                                   y=df['target'])\n",
        "class_weight_dict = dict(zip(np.unique(df['target']), class_weights))\n",
        "sample_weights = df_valid['target'].map(class_weight_dict)\n",
        "sampler = WeightedRandomSampler(list(sample_weights), num_samples=len(df_valid), replacement=True)\n",
        "\n",
        "train_loader = torch.utils.data.DataLoader(dataset_train, batch_size=args.batch_size, sampler=RandomSampler(dataset_train), num_workers=args.num_workers)\n",
        "valid_loader = torch.utils.data.DataLoader(dataset_valid, batch_size=args.batch_size, num_workers=args.num_workers)"
      ],
      "execution_count": null,
      "outputs": [
        {
          "output_type": "stream",
          "name": "stderr",
          "text": [
            "/tmp/ipython-input-1676629069.py:12: UserWarning: Argument(s) 'var_limit' are not valid for transform GaussNoise\n",
            "  albumentations.GaussNoise(var_limit=(5.0, 30.0)),\n",
            "/usr/local/lib/python3.11/dist-packages/albumentations/core/validation.py:114: UserWarning: ShiftScaleRotate is a special case of Affine transform. Please use Affine transform instead.\n",
            "  original_init(self, **validated_kwargs)\n"
          ]
        }
      ]
    },
    {
      "cell_type": "code",
      "metadata": {
        "colab": {
          "base_uri": "https://localhost:8080/"
        },
        "id": "b279c8b3",
        "outputId": "ae024fc5-b556-44b9-801a-b2e304302afe"
      },
      "source": [
        "model = Eff(\n",
        "    args.enet_type,\n",
        "    n_meta_features=n_meta_features,\n",
        "    n_meta_dim=[int(nd) for nd in args.n_meta_dim.split(',')] if isinstance(args.n_meta_dim, str) else args.n_meta_dim,\n",
        "    out_dim=args.out_dim,\n",
        "    pretrained=True\n",
        ")\n",
        "model = model.to(device)\n",
        "\n",
        "# Define Optimizer and Criterion\n",
        "optimizer = optim.Adam(model.parameters(), lr=args.init_lr)\n",
        "criterion = nn.CrossEntropyLoss()\n",
        "\n",
        "# Define Learning Rate Scheduler (already partially defined in run function)\n",
        "scheduler_cosine = torch.optim.lr_scheduler.CosineAnnealingWarmRestarts(optimizer, args.n_epochs - 1)\n",
        "scheduler_warmup = GradualWarmupSchedulerV2(optimizer, multiplier=10, total_epoch=1, after_scheduler=scheduler_cosine)\n",
        "\n",
        "print(\"Model initialized, optimizer and criterion defined.\")"
      ],
      "execution_count": null,
      "outputs": [
        {
          "output_type": "stream",
          "name": "stdout",
          "text": [
            "Model initialized, optimizer and criterion defined.\n"
          ]
        }
      ]
    },
    {
      "cell_type": "code",
      "source": [
        "import gdown\n",
        "\n",
        "gdown.download('https://drive.google.com/uc?id=1mhUxIruru3-6p1rElYEmVU9Km8RrGZkj')\n",
        "gdown.download('https://drive.google.com/uc?id=1JTwakTbXdN1jFfYG2bRggaiUHPsqdLLA')\n",
        "gdown.download('https://drive.google.com/uc?id=1hrWsuoC54fClnCtvxUWgdMGbNAOGeb6K')\n",
        "gdown.download('https://drive.google.com/uc?id=17qNSQTWKz9aiwpcc36PuHRMzESehJeRK')\n",
        "model.load_state_dict(torch.load('efficientnet_best_fold2.pth', weights_only=False))\n",
        "model.load_state_dict(torch.load('efficientnet_best_fold0.pth', weights_only=False))\n",
        "optimizer.load_state_dict(torch.load('efficientnet_optim_final_fold2.pth', weights_only=False))\n",
        "scheduler_warmup.load_state_dict(torch.load('efficientnet_scheduler_final_fold2.pth', weights_only=False))\n",
        "# scheduler_warmup.load_state_dict()"
      ],
      "metadata": {
        "id": "aEfiTQdo6fXh",
        "colab": {
          "base_uri": "https://localhost:8080/"
        },
        "outputId": "901c078a-f0e7-4c65-d5c3-2e823c17679a"
      },
      "execution_count": null,
      "outputs": [
        {
          "output_type": "stream",
          "name": "stderr",
          "text": [
            "Downloading...\n",
            "From (original): https://drive.google.com/uc?id=1mhUxIruru3-6p1rElYEmVU9Km8RrGZkj\n",
            "From (redirected): https://drive.google.com/uc?id=1mhUxIruru3-6p1rElYEmVU9Km8RrGZkj&confirm=t&uuid=f414e97d-823b-47e1-896d-b2ad9ac4b1ae\n",
            "To: /content/efficientnet_scheduler_final_fold2.pth\n",
            "100%|██████████| 130M/130M [00:01<00:00, 117MB/s]\n",
            "Downloading...\n",
            "From (original): https://drive.google.com/uc?id=1JTwakTbXdN1jFfYG2bRggaiUHPsqdLLA\n",
            "From (redirected): https://drive.google.com/uc?id=1JTwakTbXdN1jFfYG2bRggaiUHPsqdLLA&confirm=t&uuid=b494d83f-b0c9-4c64-84e0-abc21eeddf32\n",
            "To: /content/efficientnet_optim_final_fold2.pth\n",
            "100%|██████████| 86.7M/86.7M [00:00<00:00, 177MB/s]\n",
            "Downloading...\n",
            "From (original): https://drive.google.com/uc?id=1hrWsuoC54fClnCtvxUWgdMGbNAOGeb6K\n",
            "From (redirected): https://drive.google.com/uc?id=1hrWsuoC54fClnCtvxUWgdMGbNAOGeb6K&confirm=t&uuid=b19885ba-f746-4d03-a376-2dcfceff649a\n",
            "To: /content/efficientnet_best_fold2.pth\n",
            "100%|██████████| 43.7M/43.7M [00:00<00:00, 124MB/s]\n",
            "Downloading...\n",
            "From (original): https://drive.google.com/uc?id=17qNSQTWKz9aiwpcc36PuHRMzESehJeRK\n",
            "From (redirected): https://drive.google.com/uc?id=17qNSQTWKz9aiwpcc36PuHRMzESehJeRK&confirm=t&uuid=41f93567-0168-42df-b365-d112a03d093e\n",
            "To: /content/efficientnet_best_fold0.pth\n",
            "100%|██████████| 43.7M/43.7M [00:00<00:00, 86.6MB/s]\n"
          ]
        }
      ]
    },
    {
      "cell_type": "code",
      "metadata": {
        "colab": {
          "base_uri": "https://localhost:8080/",
          "height": 502
        },
        "id": "d231d9d1",
        "outputId": "6bdff53e-5f52-448a-a866-302b51412586"
      },
      "source": [
        "# Execute Training\n",
        "fold = 0\n",
        "run(fold, df, meta_features, n_meta_features, transforms_train, transforms_val, mel_idx, model, optimizer, scheduler_warmup)\n",
        "\n",
        "print(\"Training complete.\")"
      ],
      "execution_count": null,
      "outputs": [
        {
          "output_type": "stream",
          "name": "stdout",
          "text": [
            "Has Imbalance!\n",
            "Model found, using pretrained one\n",
            "320847 80212\n",
            "Mon Aug 11 17:07:58 2025 Fold 0, Epoch 1\n"
          ]
        },
        {
          "output_type": "stream",
          "name": "stderr",
          "text": [
            "loss: 0.20179, smth: 0.21536: 100%|██████████| 314/314 [23:30<00:00,  4.49s/it]\n",
            "100%|██████████| 79/79 [01:13<00:00,  1.08it/s]\n"
          ]
        },
        {
          "output_type": "error",
          "ename": "TypeError",
          "evalue": "cannot unpack non-iterable NoneType object",
          "traceback": [
            "\u001b[0;31m---------------------------------------------------------------------------\u001b[0m",
            "\u001b[0;31mTypeError\u001b[0m                                 Traceback (most recent call last)",
            "\u001b[0;32m/tmp/ipython-input-1575725855.py\u001b[0m in \u001b[0;36m<cell line: 0>\u001b[0;34m()\u001b[0m\n\u001b[1;32m      2\u001b[0m \u001b[0mfolds\u001b[0m \u001b[0;34m=\u001b[0m \u001b[0;34m[\u001b[0m\u001b[0mint\u001b[0m\u001b[0;34m(\u001b[0m\u001b[0mf\u001b[0m\u001b[0;34m)\u001b[0m \u001b[0;32mfor\u001b[0m \u001b[0mf\u001b[0m \u001b[0;32min\u001b[0m \u001b[0mstr\u001b[0m\u001b[0;34m(\u001b[0m\u001b[0;36m0\u001b[0m\u001b[0;34m)\u001b[0m\u001b[0;34m.\u001b[0m\u001b[0msplit\u001b[0m\u001b[0;34m(\u001b[0m\u001b[0;34m','\u001b[0m\u001b[0;34m)\u001b[0m\u001b[0;34m]\u001b[0m\u001b[0;34m\u001b[0m\u001b[0;34m\u001b[0m\u001b[0m\n\u001b[1;32m      3\u001b[0m \u001b[0;32mfor\u001b[0m \u001b[0mfold\u001b[0m \u001b[0;32min\u001b[0m \u001b[0mfolds\u001b[0m\u001b[0;34m:\u001b[0m\u001b[0;34m\u001b[0m\u001b[0;34m\u001b[0m\u001b[0m\n\u001b[0;32m----> 4\u001b[0;31m     \u001b[0mrun\u001b[0m\u001b[0;34m(\u001b[0m\u001b[0mfold\u001b[0m\u001b[0;34m,\u001b[0m \u001b[0mdf\u001b[0m\u001b[0;34m,\u001b[0m \u001b[0mmeta_features\u001b[0m\u001b[0;34m,\u001b[0m \u001b[0mn_meta_features\u001b[0m\u001b[0;34m,\u001b[0m \u001b[0mtransforms_train\u001b[0m\u001b[0;34m,\u001b[0m \u001b[0mtransforms_val\u001b[0m\u001b[0;34m,\u001b[0m \u001b[0mmel_idx\u001b[0m\u001b[0;34m,\u001b[0m \u001b[0mmodel\u001b[0m\u001b[0;34m,\u001b[0m \u001b[0moptimizer\u001b[0m\u001b[0;34m,\u001b[0m \u001b[0mscheduler_warmup\u001b[0m\u001b[0;34m)\u001b[0m\u001b[0;34m\u001b[0m\u001b[0;34m\u001b[0m\u001b[0m\n\u001b[0m\u001b[1;32m      5\u001b[0m \u001b[0;34m\u001b[0m\u001b[0m\n\u001b[1;32m      6\u001b[0m \u001b[0mprint\u001b[0m\u001b[0;34m(\u001b[0m\u001b[0;34m\"Training complete.\"\u001b[0m\u001b[0;34m)\u001b[0m\u001b[0;34m\u001b[0m\u001b[0;34m\u001b[0m\u001b[0m\n",
            "\u001b[0;32m/tmp/ipython-input-4199801627.py\u001b[0m in \u001b[0;36mrun\u001b[0;34m(fold, df, meta_features, n_meta_features, transforms_train, transforms_val, mel_idx, model, optim, scheduler)\u001b[0m\n\u001b[1;32m    188\u001b[0m         \u001b[0mtrain_loss\u001b[0m \u001b[0;34m=\u001b[0m \u001b[0mtrain_epoch\u001b[0m\u001b[0;34m(\u001b[0m\u001b[0mmodel\u001b[0m\u001b[0;34m,\u001b[0m \u001b[0mtrain_loader\u001b[0m\u001b[0;34m,\u001b[0m \u001b[0moptimizer\u001b[0m\u001b[0;34m)\u001b[0m\u001b[0;34m\u001b[0m\u001b[0;34m\u001b[0m\u001b[0m\n\u001b[1;32m    189\u001b[0m         \u001b[0;31m# Pass df_valid['is_ext'] to val_epoch\u001b[0m\u001b[0;34m\u001b[0m\u001b[0;34m\u001b[0m\u001b[0m\n\u001b[0;32m--> 190\u001b[0;31m         \u001b[0mval_loss\u001b[0m\u001b[0;34m,\u001b[0m \u001b[0macc\u001b[0m\u001b[0;34m,\u001b[0m \u001b[0mauc\u001b[0m\u001b[0;34m,\u001b[0m \u001b[0mauc_20\u001b[0m \u001b[0;34m=\u001b[0m \u001b[0mval_epoch\u001b[0m\u001b[0;34m(\u001b[0m\u001b[0mmodel\u001b[0m\u001b[0;34m,\u001b[0m \u001b[0mvalid_loader\u001b[0m\u001b[0;34m,\u001b[0m \u001b[0mmel_idx\u001b[0m\u001b[0;34m,\u001b[0m \u001b[0mis_ext\u001b[0m\u001b[0;34m=\u001b[0m\u001b[0mdf_valid\u001b[0m\u001b[0;34m[\u001b[0m\u001b[0;34m'is_ext'\u001b[0m\u001b[0;34m]\u001b[0m\u001b[0;34m.\u001b[0m\u001b[0mvalues\u001b[0m \u001b[0;32mif\u001b[0m \u001b[0;34m'is_ext'\u001b[0m \u001b[0;32min\u001b[0m \u001b[0mdf_valid\u001b[0m\u001b[0;34m.\u001b[0m\u001b[0mcolumns\u001b[0m \u001b[0;32melse\u001b[0m \u001b[0;32mNone\u001b[0m\u001b[0;34m)\u001b[0m\u001b[0;34m\u001b[0m\u001b[0;34m\u001b[0m\u001b[0m\n\u001b[0m\u001b[1;32m    191\u001b[0m \u001b[0;34m\u001b[0m\u001b[0m\n\u001b[1;32m    192\u001b[0m \u001b[0;34m\u001b[0m\u001b[0m\n",
            "\u001b[0;31mTypeError\u001b[0m: cannot unpack non-iterable NoneType object"
          ]
        }
      ]
    },
    {
      "cell_type": "code",
      "source": [
        "from sklearn.utils.class_weight import compute_class_weight\n",
        "import numpy as np\n",
        "\n",
        "valid_loader = torch.utils.data.DataLoader(dataset_valid, batch_size=args.batch_size, num_workers=args.num_workers)\n",
        "\n",
        "val_out = val_epoch(model, valid_loader, mel_idx, get_output=True)"
      ],
      "metadata": {
        "colab": {
          "base_uri": "https://localhost:8080/"
        },
        "id": "3g4w4-MTx3as",
        "outputId": "c765fb14-52ad-4ff0-cef8-437c7111b8d5"
      },
      "execution_count": null,
      "outputs": [
        {
          "output_type": "stream",
          "name": "stderr",
          "text": [
            " 18%|█▊        | 14/79 [00:15<00:43,  1.48it/s]Exception ignored in: <function _MultiProcessingDataLoaderIter.__del__ at 0x7b1b06602340>\n",
            "Traceback (most recent call last):\n",
            "  File \"/usr/local/lib/python3.11/dist-packages/torch/utils/data/dataloader.py\", line 1618, in __del__\n",
            "    self._shutdown_workers()\n",
            "  File \"/usr/local/lib/python3.11/dist-packages/torch/utils/data/dataloader.py\", line 1601, in _shutdown_workers\n",
            "    if w.is_alive():\n",
            "       ^^^^^^^^^^^^\n",
            "  File \"/usr/lib/python3.11/multiprocessing/process.py\", line 160, in is_alive\n",
            "    assert self._parent_pid == os.getpid(), 'can only test a child process'\n",
            "      Exception ignored in: <function _MultiProcessingDataLoaderIter.__del__ at 0x7b1b06602340>\n",
            "  Traceback (most recent call last):\n",
            "   File \"/usr/local/lib/python3.11/dist-packages/torch/utils/data/dataloader.py\", line 1618, in __del__\n",
            "      self._shutdown_workers()\n",
            "  File \"/usr/local/lib/python3.11/dist-packages/torch/utils/data/dataloader.py\", line 1601, in _shutdown_workers\n",
            "    ^if w.is_alive():^\n",
            "^ ^ ^ ^^^^^^^^^^^ ^^ ^^^  ^^^^^^^^^^^^^^^^^^^^^\n",
            "    ^  File \"/usr/lib/python3.11/multiprocessing/process.py\", line 160, in is_alive\n",
            "\n",
            "AssertionErrorassert self._parent_pid == os.getpid(), 'can only test a child process': \n",
            "can only test a child process  \n",
            "         ^^^^^^^^^^^^^^^^^^^^^^^^^^^^^^^\n",
            "AssertionError: can only test a child process\n",
            "100%|██████████| 79/79 [01:08<00:00,  1.15it/s]\n"
          ]
        }
      ]
    },
    {
      "cell_type": "code",
      "source": [
        "logits, probs, targets = val_out\n",
        "\n",
        "acc = (probs.argmax(1) == targets).mean() * 100.\n",
        "auc = roc_auc_score((targets == mel_idx).astype(float), probs[:, mel_idx])\n",
        "\n",
        "acc, auc"
      ],
      "metadata": {
        "colab": {
          "base_uri": "https://localhost:8080/"
        },
        "id": "7RE6gESK16D3",
        "outputId": "d0e0c449-659d-4d03-be1d-29a04534eecb"
      },
      "execution_count": null,
      "outputs": [
        {
          "output_type": "execute_result",
          "data": {
            "text/plain": [
              "(np.float64(95.3448361841121), np.float64(0.986642246032767))"
            ]
          },
          "metadata": {},
          "execution_count": 40
        }
      ]
    },
    {
      "cell_type": "code",
      "source": [
        "from sklearn.metrics import confusion_matrix\n",
        "\n",
        "preds = probs.argmax(1)\n",
        "\n",
        "tn, fp, fn, tp = confusion_matrix(targets, preds).ravel()\n",
        "\n",
        "sensitivity = tp / (tp + fn)\n",
        "specificity = tn / (tn + fp)\n",
        "ppv = tp / (tp + fp)\n",
        "npv = tn / (tn + fn)\n",
        "\n",
        "sensitivity, specificity, ppv, npv"
      ],
      "metadata": {
        "colab": {
          "base_uri": "https://localhost:8080/"
        },
        "id": "IxVfSDa34MQR",
        "outputId": "80116739-2cff-4206-844e-0553b379a3b7"
      },
      "execution_count": null,
      "outputs": [
        {
          "output_type": "execute_result",
          "data": {
            "text/plain": [
              "(np.float64(0.9358974358974359),\n",
              " np.float64(0.9534654453789901),\n",
              " np.float64(0.019200420831141506),\n",
              " np.float64(0.9999345635388038))"
            ]
          },
          "metadata": {},
          "execution_count": 41
        }
      ]
    },
    {
      "cell_type": "markdown",
      "source": [
        "With weighted sampler"
      ],
      "metadata": {
        "id": "_QwR9Qe0Gbr_"
      }
    },
    {
      "cell_type": "code",
      "source": [
        "from sklearn.utils.class_weight import compute_class_weight\n",
        "import numpy as np\n",
        "from torch.utils.data import WeightedRandomSampler\n",
        "\n",
        "class_weights = compute_class_weight('balanced',\n",
        "                                   classes=np.unique(df['target']),\n",
        "                                   y=df['target'])\n",
        "class_weight_dict = dict(zip(np.unique(df['target']), class_weights))\n",
        "sample_weights = df_valid['target'].map(class_weight_dict)\n",
        "sampler = WeightedRandomSampler(list(sample_weights), num_samples=len(df_valid), replacement=True)\n",
        "\n",
        "valid_loader = torch.utils.data.DataLoader(dataset_valid, batch_size=args.batch_size, num_workers=args.num_workers, sampler=sampler)\n",
        "\n",
        "val_out = val_epoch(model, valid_loader, mel_idx, get_output=True)"
      ],
      "metadata": {
        "colab": {
          "base_uri": "https://localhost:8080/"
        },
        "id": "CdhE4Bc2Fo2e",
        "outputId": "b12924eb-f452-4fec-ad0e-63718618ba8c"
      },
      "execution_count": null,
      "outputs": [
        {
          "output_type": "stream",
          "name": "stderr",
          "text": [
            " 20%|██        | 16/79 [00:13<00:40,  1.55it/s]Exception ignored in: <function _MultiProcessingDataLoaderIter.__del__ at 0x7b1b06602340>\n",
            "Traceback (most recent call last):\n",
            "  File \"/usr/local/lib/python3.11/dist-packages/torch/utils/data/dataloader.py\", line 1618, in __del__\n",
            "    self._shutdown_workers()\n",
            "  File \"/usr/local/lib/python3.11/dist-packages/torch/utils/data/dataloader.py\", line 1601, in _shutdown_workers\n",
            "    if w.is_alive():\n",
            "       ^^^^^^^^^^^^\n",
            "  File \"/usr/lib/python3.11/multiprocessing/process.py\", line 160, in is_alive\n",
            "    assert self._parent_pid == os.getpid(), 'can only test a child process'\n",
            "           ^^^^^^^^^^^^^^^^^^^^^^^^^^^^^^^\n",
            "AssertionError: can only test a child process\n",
            "Exception ignored in: <function _MultiProcessingDataLoaderIter.__del__ at 0x7b1b06602340>\n",
            "Traceback (most recent call last):\n",
            "  File \"/usr/local/lib/python3.11/dist-packages/torch/utils/data/dataloader.py\", line 1618, in __del__\n",
            "    self._shutdown_workers()\n",
            "  File \"/usr/local/lib/python3.11/dist-packages/torch/utils/data/dataloader.py\", line 1601, in _shutdown_workers\n",
            "    if w.is_alive():\n",
            "       ^^^^^^^^^^^^\n",
            "  File \"/usr/lib/python3.11/multiprocessing/process.py\", line 160, in is_alive\n",
            "    assert self._parent_pid == os.getpid(), 'can only test a child process'\n",
            "           ^^^^^^^^^^^^^^^^^^^^^^^^^^^^^^^\n",
            "AssertionError: can only test a child process\n",
            "100%|██████████| 79/79 [01:15<00:00,  1.04it/s]\n"
          ]
        }
      ]
    },
    {
      "cell_type": "code",
      "source": [
        "logits, probs, targets = val_out\n",
        "\n",
        "acc = (probs.argmax(1) == targets).mean() * 100.\n",
        "auc = roc_auc_score((targets == mel_idx).astype(float), probs[:, mel_idx])\n",
        "\n",
        "acc, auc"
      ],
      "metadata": {
        "colab": {
          "base_uri": "https://localhost:8080/"
        },
        "id": "vDjNYwdEGZZc",
        "outputId": "fa39c9d5-8bc3-47c4-8d3f-745c0ec5b11f"
      },
      "execution_count": null,
      "outputs": [
        {
          "output_type": "execute_result",
          "data": {
            "text/plain": [
              "(np.float64(94.43350122176233), np.float64(0.9862252231396866))"
            ]
          },
          "metadata": {},
          "execution_count": 45
        }
      ]
    },
    {
      "cell_type": "code",
      "source": [
        "from sklearn.metrics import confusion_matrix\n",
        "\n",
        "preds = probs.argmax(1)\n",
        "\n",
        "tn, fp, fn, tp = confusion_matrix(targets, preds).ravel()\n",
        "\n",
        "sensitivity = tp / (tp + fn)\n",
        "specificity = tn / (tn + fp)\n",
        "ppv = tp / (tp + fp)\n",
        "npv = tn / (tn + fn)\n",
        "\n",
        "sensitivity, specificity, ppv, npv"
      ],
      "metadata": {
        "colab": {
          "base_uri": "https://localhost:8080/"
        },
        "id": "_WSenFhIGa7b",
        "outputId": "1519c9f7-5253-4ba5-8a4a-01235e18222a"
      },
      "execution_count": null,
      "outputs": [
        {
          "output_type": "execute_result",
          "data": {
            "text/plain": [
              "(np.float64(0.9367012928779613),\n",
              " np.float64(0.9519828296189073),\n",
              " np.float64(0.9513231796791985),\n",
              " np.float64(0.9375460846482819))"
            ]
          },
          "metadata": {},
          "execution_count": 46
        }
      ]
    },
    {
      "cell_type": "code",
      "source": [
        "batch = next(iter(valid_loader))"
      ],
      "metadata": {
        "id": "WbDgvTq8MR8O"
      },
      "execution_count": null,
      "outputs": []
    },
    {
      "cell_type": "code",
      "source": [
        "batch[1].sum()"
      ],
      "metadata": {
        "colab": {
          "base_uri": "https://localhost:8080/"
        },
        "id": "4Ex9rhMCz6oO",
        "outputId": "3999e044-1554-49a3-f22b-1204e42b0362"
      },
      "execution_count": null,
      "outputs": [
        {
          "output_type": "execute_result",
          "data": {
            "text/plain": [
              "tensor(475)"
            ]
          },
          "metadata": {},
          "execution_count": 34
        }
      ]
    },
    {
      "cell_type": "code",
      "metadata": {
        "colab": {
          "base_uri": "https://localhost:8080/",
          "height": 428
        },
        "id": "788bc2d8",
        "outputId": "fdfd6347-7c71-4c50-8ace-8003d86aba53"
      },
      "source": [
        "image_tensor = batch[0][0] if args.use_meta else batch[0]\n",
        "\n",
        "mean = np.array([0.485, 0.456, 0.406])\n",
        "std = np.array([0.229, 0.224, 0.225])\n",
        "\n",
        "mean = mean.reshape((-1, 1, 1, 3))\n",
        "std = std.reshape((-1, 1, 1, 3))\n",
        "\n",
        "\n",
        "image_denormalized = image_tensor.permute(0, 2, 3, 1).numpy() * std + mean\n",
        "\n",
        "image_display = np.clip(image_denormalized, 0, 1)\n",
        "\n",
        "for i in range(3):\n",
        "    for j in range(3):\n",
        "        plt.subplot(3, 3, 3*i+j+1)\n",
        "        ind = np.random.randint(0, len(image_display))\n",
        "        plt.imshow(image_display[ind])\n",
        "        plt.title(f\"{batch[1][ind]}\")\n",
        "        plt.axis('off')\n",
        "plt.show()"
      ],
      "execution_count": null,
      "outputs": [
        {
          "output_type": "display_data",
          "data": {
            "text/plain": [
              "<Figure size 640x480 with 9 Axes>"
            ],
            "image/png": "[encoded data removed]"
          },
          "metadata": {}
        }
      ]
    },
    {
      "cell_type": "code",
      "source": [
        "batch[0][1][1]"
      ],
      "metadata": {
        "colab": {
          "base_uri": "https://localhost:8080/"
        },
        "id": "svr6Z_lRO52-",
        "outputId": "5d7bad7a-3596-427e-a732-e5b91a9c3c14"
      },
      "execution_count": null,
      "outputs": [
        {
          "output_type": "execute_result",
          "data": {
            "text/plain": [
              "tensor([65.0000,  3.9300, 18.4709, 11.6853, 22.7278, 20.0719, 29.2870, 23.2256,\n",
              "        50.8992, 59.7933, 36.0085, 43.7583,  9.4202, 17.0172,  0.9403,  6.7857,\n",
              "         2.6559, -7.7498,  8.3089,  7.5012,  0.7023,  2.8334,  2.4864,  2.8100,\n",
              "        12.6611,  0.9347,  2.0589,  5.8353,  0.2261,  0.0000,  0.0000,  1.0000,\n",
              "         0.0000,  0.0000,  0.0000,  0.0000,  0.0000,  0.0000,  0.0000,  0.0000,\n",
              "         0.0000,  0.0000,  0.0000,  0.0000,  0.0000,  0.0000,  0.0000,  0.0000,\n",
              "         0.0000,  0.0000,  1.0000,  0.0000,  0.0000])"
            ]
          },
          "metadata": {},
          "execution_count": 100
        }
      ]
    },
    {
      "cell_type": "code",
      "source": [
        "from numba import cuda\n",
        "\n",
        "dev = cuda.get_current_device()\n",
        "dev.reset()"
      ],
      "metadata": {
        "id": "V2AVG0a85DHo"
      },
      "execution_count": null,
      "outputs": []
    },
    {
      "cell_type": "code",
      "metadata": {
        "colab": {
          "base_uri": "https://localhost:8080/"
        },
        "id": "be22c23f",
        "outputId": "8016144f-bb29-4585-e806-3b79b645523a"
      },
      "source": [
        "from sklearn.metrics import confusion_matrix\n",
        "\n",
        "\n",
        "preds = probs.argmax(1)\n",
        "\n",
        "tn, fp, fn, tp = confusion_matrix(targets, preds).ravel()\n",
        "\n",
        "print(f\"Confusion Matrix:\\n[[{tn}, {fp}], [{fn}, {tp}]]\")\n",
        "\n",
        "accuracy = (tp + tn) / (tp + tn + fp + fn)\n",
        "sensitivity = tp / (tp + fn) if (tp + fn) > 0 else 0\n",
        "specificity = tn / (tn + fp) if (tn + fp) > 0 else 0\n",
        "ppv = tp / (tp + fp) if (tp + fp) > 0 else 0\n",
        "npv = tn / (tn + fn) if (tn + fn) > 0 else 0\n",
        "f1_score = 2 * (ppv * sensitivity) / (ppv + sensitivity) if (ppv + sensitivity) > 0 else 0\n",
        "\n",
        "print(f\"\\nAccuracy: {accuracy:.4f}\")\n",
        "print(f\"Sensitivity (Recall): {sensitivity:.4f}\")\n",
        "print(f\"Specificity: {specificity:.4f}\")\n",
        "print(f\"Positive Predictive Value (Precision): {ppv:.4f}\")\n",
        "print(f\"Negative Predictive Value: {npv:.4f}\")\n",
        "print(f\"F1 Score: {f1_score:.4f}\")\n",
        "\n",
        "from sklearn.metrics import roc_auc_score\n",
        "auc = roc_auc_score((targets == mel_idx).astype(float), probs[:, mel_idx])\n",
        "print(f\"AUC: {auc:.4f}\")"
      ],
      "execution_count": null,
      "outputs": [
        {
          "output_type": "stream",
          "name": "stdout",
          "text": [
            "Confusion Matrix:\n",
            "[[38145, 1924], [2541, 37602]]\n",
            "\n",
            "Accuracy: 0.9443\n",
            "Sensitivity (Recall): 0.9367\n",
            "Specificity: 0.9520\n",
            "Positive Predictive Value (Precision): 0.9513\n",
            "Negative Predictive Value: 0.9375\n",
            "F1 Score: 0.9440\n",
            "AUC: 0.9862\n"
          ]
        }
      ]
    },
    {
      "cell_type": "code",
      "metadata": {
        "colab": {
          "base_uri": "https://localhost:8080/",
          "height": 564
        },
        "id": "5cd21771",
        "outputId": "74b120b2-59e2-4264-a05e-deeed8b60dd7"
      },
      "source": [
        "import matplotlib.pyplot as plt\n",
        "import seaborn as sns\n",
        "from sklearn.metrics import confusion_matrix\n",
        "\n",
        "cm = confusion_matrix(targets, preds)\n",
        "\n",
        "class_labels = ['Benign', 'Malignant']\n",
        "\n",
        "plt.figure(figsize=(8, 6))\n",
        "sns.heatmap(cm, annot=True, fmt='d', cmap='Blues', xticklabels=class_labels, yticklabels=class_labels)\n",
        "plt.xlabel('Predicted Label')\n",
        "plt.ylabel('True Label')\n",
        "plt.title('Confusion Matrix')\n",
        "plt.show()"
      ],
      "execution_count": null,
      "outputs": [
        {
          "output_type": "display_data",
          "data": {
            "text/plain": [
              "<Figure size 800x600 with 2 Axes>"
            ],
            "image/png": "[encoded data removed]"
          },
          "metadata": {}
        }
      ]
    },
    {
      "cell_type": "code",
      "source": [
        "torch.save(model.state_dict(), 'efficientnet_best_fold0_10ep.pth')"
      ],
      "metadata": {
        "id": "pDC_YhDgP_WL"
      },
      "execution_count": null,
      "outputs": []
    }
  ]
}