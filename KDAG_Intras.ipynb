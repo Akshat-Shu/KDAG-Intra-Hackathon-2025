{
  "nbformat": 4,
  "nbformat_minor": 0,
  "metadata": {
    "colab": {
      "provenance": []
    },
    "kernelspec": {
      "name": "python3",
      "display_name": "Python 3"
    },
    "language_info": {
      "name": "python"
    }
  },
  "cells": [
    {
      "cell_type": "code",
      "execution_count": null,
      "metadata": {
        "colab": {
          "base_uri": "https://localhost:8080/"
        },
        "id": "RGD1guU6RgY6",
        "outputId": "7fde9596-ae54-45dd-f8d9-6c2ab01e31e1"
      },
      "outputs": [
        {
          "output_type": "stream",
          "name": "stderr",
          "text": [
            "Retrieving folder contents\n"
          ]
        },
        {
          "output_type": "stream",
          "name": "stdout",
          "text": [
            "Processing file 1wHcBG5ScNKOxQixT6XZElaYYnLe5YtTh images.hdf5\n",
            "Processing file 19NhzTlMREy2ct5kaXJyuZjSrgrSq2zIOMSiiTuGCPbI metadata\n",
            "Processing file 1RZTnXKRaoVzszG8zQgBgmdnGyGXL_CO3rmbf3QpDNbU Problem Statement\n",
            "Processing file 1N9oQCi5zklHrv-AXRF6RBiiAzmxc4i2y subject_data.csv\n"
          ]
        },
        {
          "output_type": "stream",
          "name": "stderr",
          "text": [
            "Retrieving folder contents completed\n",
            "Building directory structure\n",
            "Building directory structure completed\n",
            "Downloading...\n",
            "From (original): https://drive.google.com/uc?id=1wHcBG5ScNKOxQixT6XZElaYYnLe5YtTh\n",
            "From (redirected): https://drive.google.com/uc?id=1wHcBG5ScNKOxQixT6XZElaYYnLe5YtTh&confirm=t&uuid=fb54352c-3cda-400c-9926-f161f83cd982\n",
            "To: /content/Download/images.hdf5\n",
            "100%|██████████| 1.30G/1.30G [00:07<00:00, 174MB/s]\n",
            "Downloading...\n",
            "From (original): https://drive.google.com/uc?id=19NhzTlMREy2ct5kaXJyuZjSrgrSq2zIOMSiiTuGCPbI\n",
            "From (redirected): https://docs.google.com/spreadsheets/d/19NhzTlMREy2ct5kaXJyuZjSrgrSq2zIOMSiiTuGCPbI/export?format=xlsx\n",
            "To: /content/Download/metadata\n",
            "52.7kB [00:00, 9.51MB/s]\n",
            "Downloading...\n",
            "From (original): https://drive.google.com/uc?id=1RZTnXKRaoVzszG8zQgBgmdnGyGXL_CO3rmbf3QpDNbU\n",
            "From (redirected): https://docs.google.com/document/d/1RZTnXKRaoVzszG8zQgBgmdnGyGXL_CO3rmbf3QpDNbU/export?format=docx\n",
            "To: /content/Download/Problem Statement\n",
            "78.3kB [00:00, 4.41MB/s]\n",
            "Downloading...\n",
            "From (original): https://drive.google.com/uc?id=1N9oQCi5zklHrv-AXRF6RBiiAzmxc4i2y\n",
            "From (redirected): https://drive.google.com/uc?id=1N9oQCi5zklHrv-AXRF6RBiiAzmxc4i2y&confirm=t&uuid=87858263-5dda-4823-8267-f51a0f200b04\n",
            "To: /content/Download/subject_data.csv\n",
            "100%|██████████| 258M/258M [00:01<00:00, 211MB/s]\n",
            "Download completed\n"
          ]
        },
        {
          "output_type": "execute_result",
          "data": {
            "text/plain": [
              "['Download/images.hdf5',\n",
              " 'Download/metadata',\n",
              " 'Download/Problem Statement',\n",
              " 'Download/subject_data.csv']"
            ]
          },
          "metadata": {},
          "execution_count": 1
        }
      ],
      "source": [
        "import gdown\n",
        "\n",
        "gdown.download_folder('https://drive.google.com/drive/folders/1UKUZZ6uTdEVdGWEKNh0ZRp08pK_AVnrm', output='Download')"
      ]
    }
  ]
}